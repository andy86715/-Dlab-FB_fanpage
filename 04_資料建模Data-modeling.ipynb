{
 "cells": [
  {
   "cell_type": "code",
   "execution_count": 1,
   "metadata": {
    "collapsed": true
   },
   "outputs": [],
   "source": [
    "import pandas as pd\n",
    "df = pd.read_excel('fanpage_clean.xlsx')"
   ]
  },
  {
   "cell_type": "code",
   "execution_count": 2,
   "metadata": {
    "collapsed": false
   },
   "outputs": [
    {
     "data": {
      "text/html": [
       "<div>\n",
       "<style>\n",
       "    .dataframe thead tr:only-child th {\n",
       "        text-align: right;\n",
       "    }\n",
       "\n",
       "    .dataframe thead th {\n",
       "        text-align: left;\n",
       "    }\n",
       "\n",
       "    .dataframe tbody tr th {\n",
       "        vertical-align: top;\n",
       "    }\n",
       "</style>\n",
       "<table border=\"1\" class=\"dataframe\">\n",
       "  <thead>\n",
       "    <tr style=\"text-align: right;\">\n",
       "      <th></th>\n",
       "      <th>id</th>\n",
       "      <th>context</th>\n",
       "      <th>time</th>\n",
       "      <th>shares</th>\n",
       "      <th>likes</th>\n",
       "      <th>love</th>\n",
       "      <th>wow</th>\n",
       "      <th>haha</th>\n",
       "      <th>angry</th>\n",
       "      <th>sad</th>\n",
       "      <th>comments</th>\n",
       "      <th>likes_count</th>\n",
       "      <th>curator</th>\n",
       "      <th>hour</th>\n",
       "      <th>weekday</th>\n",
       "    </tr>\n",
       "  </thead>\n",
       "  <tbody>\n",
       "    <tr>\n",
       "      <th>0</th>\n",
       "      <td>124616330906800_1560501197318299</td>\n",
       "      <td>阿娘威！披羊皮的狼？竟大口嚼小雞\\n#要打統編：小編真的是快嚇死了...😬😬\\n\\n影片來源...</td>\n",
       "      <td>2017-06-05 11:09:40</td>\n",
       "      <td>560</td>\n",
       "      <td>1144</td>\n",
       "      <td>11</td>\n",
       "      <td>757</td>\n",
       "      <td>21</td>\n",
       "      <td>292</td>\n",
       "      <td>86</td>\n",
       "      <td>589</td>\n",
       "      <td>2311</td>\n",
       "      <td>要打統編</td>\n",
       "      <td>11</td>\n",
       "      <td>Monday</td>\n",
       "    </tr>\n",
       "  </tbody>\n",
       "</table>\n",
       "</div>"
      ],
      "text/plain": [
       "                                 id  \\\n",
       "0  124616330906800_1560501197318299   \n",
       "\n",
       "                                             context                time  \\\n",
       "0  阿娘威！披羊皮的狼？竟大口嚼小雞\\n#要打統編：小編真的是快嚇死了...😬😬\\n\\n影片來源... 2017-06-05 11:09:40   \n",
       "\n",
       "   shares  likes  love  wow  haha  angry  sad  comments  likes_count curator  \\\n",
       "0     560   1144    11  757    21    292   86       589         2311    要打統編   \n",
       "\n",
       "   hour weekday  \n",
       "0    11  Monday  "
      ]
     },
     "execution_count": 2,
     "metadata": {},
     "output_type": "execute_result"
    }
   ],
   "source": [
    "df.head(1)"
   ]
  },
  {
   "cell_type": "markdown",
   "metadata": {},
   "source": [
    "# Data Modeling"
   ]
  },
  {
   "cell_type": "markdown",
   "metadata": {},
   "source": [
    "資料前處理"
   ]
  },
  {
   "cell_type": "markdown",
   "metadata": {},
   "source": [
    "使用分享數、留言數、小編、發文時間、發文星期預測按讚數量"
   ]
  },
  {
   "cell_type": "code",
   "execution_count": 3,
   "metadata": {
    "collapsed": true
   },
   "outputs": [],
   "source": [
    "X = df[['shares','comments','curator','hour','weekday']]\n",
    "y = df['likes_count']"
   ]
  },
  {
   "cell_type": "code",
   "execution_count": 4,
   "metadata": {
    "collapsed": false,
    "scrolled": false
   },
   "outputs": [
    {
     "name": "stdout",
     "output_type": "stream",
     "text": [
      "<class 'pandas.core.frame.DataFrame'>\n",
      "RangeIndex: 9975 entries, 0 to 9974\n",
      "Data columns (total 5 columns):\n",
      "shares      9975 non-null int64\n",
      "comments    9975 non-null int64\n",
      "curator     7232 non-null object\n",
      "hour        9975 non-null int64\n",
      "weekday     9975 non-null object\n",
      "dtypes: int64(3), object(2)\n",
      "memory usage: 389.7+ KB\n"
     ]
    }
   ],
   "source": [
    "X.info()"
   ]
  },
  {
   "cell_type": "code",
   "execution_count": 5,
   "metadata": {
    "collapsed": false
   },
   "outputs": [
    {
     "name": "stderr",
     "output_type": "stream",
     "text": [
      "/Users/andy/anaconda/lib/python3.6/site-packages/ipykernel/__main__.py:1: SettingWithCopyWarning: \n",
      "A value is trying to be set on a copy of a slice from a DataFrame.\n",
      "Try using .loc[row_indexer,col_indexer] = value instead\n",
      "\n",
      "See the caveats in the documentation: http://pandas.pydata.org/pandas-docs/stable/indexing.html#indexing-view-versus-copy\n",
      "  if __name__ == '__main__':\n"
     ]
    }
   ],
   "source": [
    "X['curator'] = X['curator'].fillna('未知')"
   ]
  },
  {
   "cell_type": "code",
   "execution_count": 6,
   "metadata": {
    "collapsed": false
   },
   "outputs": [
    {
     "name": "stdout",
     "output_type": "stream",
     "text": [
      "<class 'pandas.core.frame.DataFrame'>\n",
      "RangeIndex: 9975 entries, 0 to 9974\n",
      "Data columns (total 5 columns):\n",
      "shares      9975 non-null int64\n",
      "comments    9975 non-null int64\n",
      "curator     9975 non-null object\n",
      "hour        9975 non-null int64\n",
      "weekday     9975 non-null object\n",
      "dtypes: int64(3), object(2)\n",
      "memory usage: 389.7+ KB\n"
     ]
    }
   ],
   "source": [
    "X.info()"
   ]
  },
  {
   "cell_type": "markdown",
   "metadata": {},
   "source": [
    "資料標準化"
   ]
  },
  {
   "cell_type": "code",
   "execution_count": 7,
   "metadata": {
    "collapsed": false
   },
   "outputs": [
    {
     "name": "stderr",
     "output_type": "stream",
     "text": [
      "/Users/andy/anaconda/lib/python3.6/site-packages/ipykernel/__main__.py:3: SettingWithCopyWarning: \n",
      "A value is trying to be set on a copy of a slice from a DataFrame.\n",
      "Try using .loc[row_indexer,col_indexer] = value instead\n",
      "\n",
      "See the caveats in the documentation: http://pandas.pydata.org/pandas-docs/stable/indexing.html#indexing-view-versus-copy\n",
      "  app.launch_new_instance()\n",
      "/Users/andy/anaconda/lib/python3.6/site-packages/pandas/core/indexing.py:517: SettingWithCopyWarning: \n",
      "A value is trying to be set on a copy of a slice from a DataFrame.\n",
      "Try using .loc[row_indexer,col_indexer] = value instead\n",
      "\n",
      "See the caveats in the documentation: http://pandas.pydata.org/pandas-docs/stable/indexing.html#indexing-view-versus-copy\n",
      "  self.obj[item] = s\n"
     ]
    }
   ],
   "source": [
    "from sklearn import preprocessing\n",
    "standard = preprocessing.StandardScaler()\n",
    "X[['shares','comments']] = standard.fit_transform(X[['shares','comments']])"
   ]
  },
  {
   "cell_type": "markdown",
   "metadata": {},
   "source": [
    "將類別型資料轉為Dummy值"
   ]
  },
  {
   "cell_type": "code",
   "execution_count": 8,
   "metadata": {
    "collapsed": false
   },
   "outputs": [],
   "source": [
    "X_1 = pd.get_dummies(X)"
   ]
  },
  {
   "cell_type": "code",
   "execution_count": 9,
   "metadata": {
    "collapsed": false,
    "scrolled": false
   },
   "outputs": [
    {
     "data": {
      "text/html": [
       "<div>\n",
       "<style>\n",
       "    .dataframe thead tr:only-child th {\n",
       "        text-align: right;\n",
       "    }\n",
       "\n",
       "    .dataframe thead th {\n",
       "        text-align: left;\n",
       "    }\n",
       "\n",
       "    .dataframe tbody tr th {\n",
       "        vertical-align: top;\n",
       "    }\n",
       "</style>\n",
       "<table border=\"1\" class=\"dataframe\">\n",
       "  <thead>\n",
       "    <tr style=\"text-align: right;\">\n",
       "      <th></th>\n",
       "      <th>shares</th>\n",
       "      <th>comments</th>\n",
       "      <th>hour</th>\n",
       "      <th>curator_BG編</th>\n",
       "      <th>curator_B編</th>\n",
       "      <th>curator_M編</th>\n",
       "      <th>curator_七條編</th>\n",
       "      <th>curator_人間四月編</th>\n",
       "      <th>curator_什麼編</th>\n",
       "      <th>curator_傻編</th>\n",
       "      <th>...</th>\n",
       "      <th>curator_高光編</th>\n",
       "      <th>curator_魚骨編</th>\n",
       "      <th>curator_鴨編</th>\n",
       "      <th>weekday_Friday</th>\n",
       "      <th>weekday_Monday</th>\n",
       "      <th>weekday_Saturday</th>\n",
       "      <th>weekday_Sunday</th>\n",
       "      <th>weekday_Thursday</th>\n",
       "      <th>weekday_Tuesday</th>\n",
       "      <th>weekday_Wednesday</th>\n",
       "    </tr>\n",
       "  </thead>\n",
       "  <tbody>\n",
       "    <tr>\n",
       "      <th>0</th>\n",
       "      <td>0.241213</td>\n",
       "      <td>0.001331</td>\n",
       "      <td>11</td>\n",
       "      <td>0</td>\n",
       "      <td>0</td>\n",
       "      <td>0</td>\n",
       "      <td>0</td>\n",
       "      <td>0</td>\n",
       "      <td>0</td>\n",
       "      <td>0</td>\n",
       "      <td>...</td>\n",
       "      <td>0</td>\n",
       "      <td>0</td>\n",
       "      <td>0</td>\n",
       "      <td>0</td>\n",
       "      <td>1</td>\n",
       "      <td>0</td>\n",
       "      <td>0</td>\n",
       "      <td>0</td>\n",
       "      <td>0</td>\n",
       "      <td>0</td>\n",
       "    </tr>\n",
       "    <tr>\n",
       "      <th>1</th>\n",
       "      <td>-0.212199</td>\n",
       "      <td>-0.206505</td>\n",
       "      <td>11</td>\n",
       "      <td>0</td>\n",
       "      <td>0</td>\n",
       "      <td>0</td>\n",
       "      <td>0</td>\n",
       "      <td>0</td>\n",
       "      <td>0</td>\n",
       "      <td>0</td>\n",
       "      <td>...</td>\n",
       "      <td>0</td>\n",
       "      <td>0</td>\n",
       "      <td>0</td>\n",
       "      <td>0</td>\n",
       "      <td>1</td>\n",
       "      <td>0</td>\n",
       "      <td>0</td>\n",
       "      <td>0</td>\n",
       "      <td>0</td>\n",
       "      <td>0</td>\n",
       "    </tr>\n",
       "    <tr>\n",
       "      <th>2</th>\n",
       "      <td>0.677548</td>\n",
       "      <td>0.564335</td>\n",
       "      <td>10</td>\n",
       "      <td>0</td>\n",
       "      <td>0</td>\n",
       "      <td>0</td>\n",
       "      <td>0</td>\n",
       "      <td>0</td>\n",
       "      <td>0</td>\n",
       "      <td>0</td>\n",
       "      <td>...</td>\n",
       "      <td>0</td>\n",
       "      <td>0</td>\n",
       "      <td>0</td>\n",
       "      <td>0</td>\n",
       "      <td>1</td>\n",
       "      <td>0</td>\n",
       "      <td>0</td>\n",
       "      <td>0</td>\n",
       "      <td>0</td>\n",
       "      <td>0</td>\n",
       "    </tr>\n",
       "    <tr>\n",
       "      <th>3</th>\n",
       "      <td>-0.224154</td>\n",
       "      <td>-0.215934</td>\n",
       "      <td>10</td>\n",
       "      <td>0</td>\n",
       "      <td>0</td>\n",
       "      <td>0</td>\n",
       "      <td>0</td>\n",
       "      <td>0</td>\n",
       "      <td>0</td>\n",
       "      <td>0</td>\n",
       "      <td>...</td>\n",
       "      <td>0</td>\n",
       "      <td>0</td>\n",
       "      <td>0</td>\n",
       "      <td>0</td>\n",
       "      <td>1</td>\n",
       "      <td>0</td>\n",
       "      <td>0</td>\n",
       "      <td>0</td>\n",
       "      <td>0</td>\n",
       "      <td>0</td>\n",
       "    </tr>\n",
       "    <tr>\n",
       "      <th>4</th>\n",
       "      <td>-0.212199</td>\n",
       "      <td>-0.208076</td>\n",
       "      <td>10</td>\n",
       "      <td>0</td>\n",
       "      <td>0</td>\n",
       "      <td>0</td>\n",
       "      <td>0</td>\n",
       "      <td>0</td>\n",
       "      <td>0</td>\n",
       "      <td>0</td>\n",
       "      <td>...</td>\n",
       "      <td>0</td>\n",
       "      <td>0</td>\n",
       "      <td>0</td>\n",
       "      <td>0</td>\n",
       "      <td>1</td>\n",
       "      <td>0</td>\n",
       "      <td>0</td>\n",
       "      <td>0</td>\n",
       "      <td>0</td>\n",
       "      <td>0</td>\n",
       "    </tr>\n",
       "  </tbody>\n",
       "</table>\n",
       "<p>5 rows × 97 columns</p>\n",
       "</div>"
      ],
      "text/plain": [
       "     shares  comments  hour  curator_BG編  curator_B編  curator_M編  curator_七條編  \\\n",
       "0  0.241213  0.001331    11            0           0           0            0   \n",
       "1 -0.212199 -0.206505    11            0           0           0            0   \n",
       "2  0.677548  0.564335    10            0           0           0            0   \n",
       "3 -0.224154 -0.215934    10            0           0           0            0   \n",
       "4 -0.212199 -0.208076    10            0           0           0            0   \n",
       "\n",
       "   curator_人間四月編  curator_什麼編  curator_傻編        ...          curator_高光編  \\\n",
       "0              0            0           0        ...                    0   \n",
       "1              0            0           0        ...                    0   \n",
       "2              0            0           0        ...                    0   \n",
       "3              0            0           0        ...                    0   \n",
       "4              0            0           0        ...                    0   \n",
       "\n",
       "   curator_魚骨編  curator_鴨編  weekday_Friday  weekday_Monday  weekday_Saturday  \\\n",
       "0            0           0               0               1                 0   \n",
       "1            0           0               0               1                 0   \n",
       "2            0           0               0               1                 0   \n",
       "3            0           0               0               1                 0   \n",
       "4            0           0               0               1                 0   \n",
       "\n",
       "   weekday_Sunday  weekday_Thursday  weekday_Tuesday  weekday_Wednesday  \n",
       "0               0                 0                0                  0  \n",
       "1               0                 0                0                  0  \n",
       "2               0                 0                0                  0  \n",
       "3               0                 0                0                  0  \n",
       "4               0                 0                0                  0  \n",
       "\n",
       "[5 rows x 97 columns]"
      ]
     },
     "execution_count": 9,
     "metadata": {},
     "output_type": "execute_result"
    }
   ],
   "source": [
    "X_1.head()"
   ]
  },
  {
   "cell_type": "markdown",
   "metadata": {},
   "source": [
    "Training & Testing data"
   ]
  },
  {
   "cell_type": "code",
   "execution_count": 20,
   "metadata": {
    "collapsed": true
   },
   "outputs": [],
   "source": [
    "from sklearn.model_selection import train_test_split\n",
    "X_train, X_test, y_train, y_test = train_test_split(X_1, y, test_size = 0.3, random_state = 2)"
   ]
  },
  {
   "cell_type": "markdown",
   "metadata": {},
   "source": [
    "# 預測模型 - 迴歸 Regression"
   ]
  },
  {
   "cell_type": "markdown",
   "metadata": {},
   "source": [
    "Linear regression"
   ]
  },
  {
   "cell_type": "code",
   "execution_count": null,
   "metadata": {
    "collapsed": true
   },
   "outputs": [],
   "source": [
    "from sklearn.linear_model import LinearRegression\n",
    "lm = LinearRegression()"
   ]
  },
  {
   "cell_type": "code",
   "execution_count": 21,
   "metadata": {
    "collapsed": false
   },
   "outputs": [
    {
     "data": {
      "text/plain": [
       "LinearRegression(copy_X=True, fit_intercept=True, n_jobs=1, normalize=False)"
      ]
     },
     "execution_count": 21,
     "metadata": {},
     "output_type": "execute_result"
    }
   ],
   "source": [
    "lm.fit(X_train.values, y_train.values)"
   ]
  },
  {
   "cell_type": "code",
   "execution_count": 22,
   "metadata": {
    "collapsed": false
   },
   "outputs": [
    {
     "name": "stdout",
     "output_type": "stream",
     "text": [
      "3620.626025474225\n"
     ]
    }
   ],
   "source": [
    "print(lm.intercept_)"
   ]
  },
  {
   "cell_type": "code",
   "execution_count": 23,
   "metadata": {
    "collapsed": false
   },
   "outputs": [
    {
     "name": "stdout",
     "output_type": "stream",
     "text": [
      "[ 3.00462596e+03  4.72062851e+03  2.01721953e+01 -2.28276444e+03\n",
      "  2.07920813e+03  1.48858548e+02 -1.46823617e+03 -2.81825555e+03\n",
      "  3.51436775e+03 -1.33455026e+03  4.27693492e+02  3.67418636e+02\n",
      " -1.60739471e+03 -3.07750639e+02 -1.51851326e+03  1.48574584e+03\n",
      "  4.98227663e+03 -2.36620899e+01  1.67287036e+03  1.01151796e+03\n",
      " -1.55317300e+03 -4.24150315e+02  4.45541144e+03  7.65987465e+03\n",
      " -5.76397787e+02 -1.51799158e+03 -2.15215639e+03 -1.75348433e+03\n",
      " -7.00398636e+02 -1.70082134e+03 -3.73933534e+02 -9.39178182e+02\n",
      " -1.74487518e+02  3.34903993e+01 -9.24239906e+01 -1.97503789e+03\n",
      "  2.87063698e+03 -1.53378732e+03  1.59797270e+04  2.62326036e+03\n",
      " -1.51700222e+03 -1.72973614e+03  3.62900435e+03  9.65798300e+02\n",
      "  4.23670878e+03 -1.87447960e+02  5.86604565e+03 -3.87138329e+03\n",
      " -1.58148389e+04 -5.23336428e+02 -1.67667670e+03 -1.90935749e+02\n",
      " -2.05228159e+03 -1.69850301e+03 -9.32861046e+02  3.02177646e+02\n",
      " -1.60500835e+03 -1.76060345e+03 -3.09648285e+03 -1.87567185e+03\n",
      "  2.21896830e+04 -1.51722054e+03 -1.67930414e+03  4.26739301e+02\n",
      " -1.65369164e+03 -1.24298904e+03 -1.77202459e+03 -1.95692592e+03\n",
      "  3.39816434e+03  2.41284866e+03 -1.54156458e+03  1.10022560e+03\n",
      " -4.86332942e+02  3.42899152e+02  6.10266260e+02 -1.91692096e+03\n",
      " -1.44818949e+03  2.08230983e+02 -1.53851203e+03 -2.36589198e+03\n",
      " -7.13636603e+02 -1.59226012e+03 -7.95729648e+02 -1.36552998e+03\n",
      " -8.45896793e+02 -1.56112402e+03 -1.49262523e+03 -4.42749541e+02\n",
      "  9.09494702e-13 -1.71071199e+03  8.65224801e+01 -1.65422025e+02\n",
      "  3.97354989e+02  1.75499828e+01 -1.63213032e+02 -8.43561963e+01\n",
      " -8.84361990e+01]\n"
     ]
    }
   ],
   "source": [
    "print(lm.coef_)"
   ]
  },
  {
   "cell_type": "code",
   "execution_count": 24,
   "metadata": {
    "collapsed": false
   },
   "outputs": [
    {
     "data": {
      "text/html": [
       "<div>\n",
       "<style>\n",
       "    .dataframe thead tr:only-child th {\n",
       "        text-align: right;\n",
       "    }\n",
       "\n",
       "    .dataframe thead th {\n",
       "        text-align: left;\n",
       "    }\n",
       "\n",
       "    .dataframe tbody tr th {\n",
       "        vertical-align: top;\n",
       "    }\n",
       "</style>\n",
       "<table border=\"1\" class=\"dataframe\">\n",
       "  <thead>\n",
       "    <tr style=\"text-align: right;\">\n",
       "      <th></th>\n",
       "      <th>Measured</th>\n",
       "      <th>Predicted</th>\n",
       "    </tr>\n",
       "  </thead>\n",
       "  <tbody>\n",
       "    <tr>\n",
       "      <th>0</th>\n",
       "      <td>6938</td>\n",
       "      <td>2221.857708</td>\n",
       "    </tr>\n",
       "    <tr>\n",
       "      <th>1</th>\n",
       "      <td>860</td>\n",
       "      <td>2083.246286</td>\n",
       "    </tr>\n",
       "    <tr>\n",
       "      <th>2</th>\n",
       "      <td>128</td>\n",
       "      <td>273.179627</td>\n",
       "    </tr>\n",
       "    <tr>\n",
       "      <th>3</th>\n",
       "      <td>4851</td>\n",
       "      <td>5543.968663</td>\n",
       "    </tr>\n",
       "    <tr>\n",
       "      <th>4</th>\n",
       "      <td>491</td>\n",
       "      <td>2672.784547</td>\n",
       "    </tr>\n",
       "  </tbody>\n",
       "</table>\n",
       "</div>"
      ],
      "text/plain": [
       "   Measured    Predicted\n",
       "0      6938  2221.857708\n",
       "1       860  2083.246286\n",
       "2       128   273.179627\n",
       "3      4851  5543.968663\n",
       "4       491  2672.784547"
      ]
     },
     "execution_count": 24,
     "metadata": {},
     "output_type": "execute_result"
    }
   ],
   "source": [
    "y_predict = lm.predict(X_test)\n",
    "pd.DataFrame(list(zip(y_test.values, y_predict)), columns=['Measured','Predicted']).head()"
   ]
  },
  {
   "cell_type": "code",
   "execution_count": 25,
   "metadata": {
    "collapsed": false
   },
   "outputs": [
    {
     "data": {
      "image/png": "[encoded data removed]",
      "text/plain": [
       "<matplotlib.figure.Figure at 0x120235630>"
      ]
     },
     "metadata": {},
     "output_type": "display_data"
    }
   ],
   "source": [
    "import matplotlib.pyplot as plt\n",
    "plt.scatter(y_test.values,y_predict,s=2)\n",
    "plt.plot([y_test.values.min(), y_test.values.max()],\n",
    "         [y_test.values.min(), y_test.values.max()], 'k--', lw=2)\n",
    "plt.ylabel('Predicted')\n",
    "plt.xlabel('Measured')\n",
    "plt.show()"
   ]
  },
  {
   "cell_type": "markdown",
   "metadata": {},
   "source": [
    "檢驗迴歸模型"
   ]
  },
  {
   "cell_type": "code",
   "execution_count": 49,
   "metadata": {
    "collapsed": false
   },
   "outputs": [
    {
     "name": "stdout",
     "output_type": "stream",
     "text": [
      "MSE :  23446608.538704727\n"
     ]
    }
   ],
   "source": [
    "from sklearn.metrics import mean_squared_error\n",
    "mse = mean_squared_error(y_test.values, y_predict)\n",
    "print(\"MSE : \",mse)"
   ]
  },
  {
   "cell_type": "code",
   "execution_count": 51,
   "metadata": {
    "collapsed": false
   },
   "outputs": [
    {
     "name": "stdout",
     "output_type": "stream",
     "text": [
      "RMSE :  4842.169817210537\n"
     ]
    }
   ],
   "source": [
    "from math import sqrt\n",
    "rms = sqrt(mean_squared_error(y_test.values, y_predict))\n",
    "print(\"RMSE : \",rms)"
   ]
  },
  {
   "cell_type": "code",
   "execution_count": 52,
   "metadata": {
    "collapsed": false
   },
   "outputs": [
    {
     "name": "stdout",
     "output_type": "stream",
     "text": [
      "R-squared  :  0.6991904295741282\n"
     ]
    }
   ],
   "source": [
    "R_2 = lm.score(X_train, y_train) \n",
    "print(\"R-squared  : \",R_2)"
   ]
  },
  {
   "cell_type": "code",
   "execution_count": 53,
   "metadata": {
    "collapsed": false
   },
   "outputs": [
    {
     "name": "stdout",
     "output_type": "stream",
     "text": [
      "Adjusted R-squared :  0.6949518287125203\n"
     ]
    }
   ],
   "source": [
    "adj_R_2 = R_2 - (1 - R_2) * (X_train.shape[1] / (X_train.shape[0] - X_train.shape[1] - 1))\n",
    "print(\"Adjusted R-squared : \",adj_R_2)"
   ]
  },
  {
   "cell_type": "markdown",
   "metadata": {
    "collapsed": false
   },
   "source": [
    "# Random Forest Regression"
   ]
  },
  {
   "cell_type": "code",
   "execution_count": 41,
   "metadata": {
    "collapsed": false
   },
   "outputs": [
    {
     "data": {
      "text/plain": [
       "RandomForestRegressor(bootstrap=True, criterion='mse', max_depth=None,\n",
       "           max_features='auto', max_leaf_nodes=None,\n",
       "           min_impurity_decrease=0.0, min_impurity_split=None,\n",
       "           min_samples_leaf=1, min_samples_split=2,\n",
       "           min_weight_fraction_leaf=0.0, n_estimators=10, n_jobs=1,\n",
       "           oob_score=False, random_state=None, verbose=0, warm_start=False)"
      ]
     },
     "execution_count": 41,
     "metadata": {},
     "output_type": "execute_result"
    }
   ],
   "source": [
    "from sklearn.ensemble import RandomForestRegressor\n",
    "rfr = RandomForestRegressor()\n",
    "rfr.fit(X_train.values, y_train.values)"
   ]
  },
  {
   "cell_type": "code",
   "execution_count": null,
   "metadata": {
    "collapsed": true
   },
   "outputs": [],
   "source": [
    "y_predict_rfr = rfr.predict(X_test)"
   ]
  },
  {
   "cell_type": "code",
   "execution_count": 55,
   "metadata": {
    "collapsed": false
   },
   "outputs": [
    {
     "data": {
      "text/html": [
       "<div>\n",
       "<style>\n",
       "    .dataframe thead tr:only-child th {\n",
       "        text-align: right;\n",
       "    }\n",
       "\n",
       "    .dataframe thead th {\n",
       "        text-align: left;\n",
       "    }\n",
       "\n",
       "    .dataframe tbody tr th {\n",
       "        vertical-align: top;\n",
       "    }\n",
       "</style>\n",
       "<table border=\"1\" class=\"dataframe\">\n",
       "  <thead>\n",
       "    <tr style=\"text-align: right;\">\n",
       "      <th></th>\n",
       "      <th>Measured</th>\n",
       "      <th>Predicted</th>\n",
       "    </tr>\n",
       "  </thead>\n",
       "  <tbody>\n",
       "    <tr>\n",
       "      <th>0</th>\n",
       "      <td>6938</td>\n",
       "      <td>3221.5</td>\n",
       "    </tr>\n",
       "    <tr>\n",
       "      <th>1</th>\n",
       "      <td>860</td>\n",
       "      <td>755.8</td>\n",
       "    </tr>\n",
       "    <tr>\n",
       "      <th>2</th>\n",
       "      <td>128</td>\n",
       "      <td>292.6</td>\n",
       "    </tr>\n",
       "    <tr>\n",
       "      <th>3</th>\n",
       "      <td>4851</td>\n",
       "      <td>5626.1</td>\n",
       "    </tr>\n",
       "    <tr>\n",
       "      <th>4</th>\n",
       "      <td>491</td>\n",
       "      <td>730.9</td>\n",
       "    </tr>\n",
       "  </tbody>\n",
       "</table>\n",
       "</div>"
      ],
      "text/plain": [
       "   Measured  Predicted\n",
       "0      6938     3221.5\n",
       "1       860      755.8\n",
       "2       128      292.6\n",
       "3      4851     5626.1\n",
       "4       491      730.9"
      ]
     },
     "execution_count": 55,
     "metadata": {},
     "output_type": "execute_result"
    }
   ],
   "source": [
    "pd.DataFrame(list(zip(y_test.values, y_predict_rfr)), columns=['Measured','Predicted']).head()"
   ]
  },
  {
   "cell_type": "code",
   "execution_count": 44,
   "metadata": {
    "collapsed": false
   },
   "outputs": [
    {
     "name": "stdout",
     "output_type": "stream",
     "text": [
      "MSE :  19021269.861873765\n"
     ]
    }
   ],
   "source": [
    "from sklearn.metrics import mean_squared_error\n",
    "mse = mean_squared_error(y_test.values, y_predict_rfr)\n",
    "print(\"MSE : \",mse)"
   ]
  },
  {
   "cell_type": "code",
   "execution_count": 48,
   "metadata": {
    "collapsed": false
   },
   "outputs": [
    {
     "name": "stdout",
     "output_type": "stream",
     "text": [
      "RMSE :  4361.338081583881\n"
     ]
    }
   ],
   "source": [
    "from math import sqrt\n",
    "rms = sqrt(mean_squared_error(y_test.values, y_predict_rfr))\n",
    "print(\"RMSE : \",rms)"
   ]
  },
  {
   "cell_type": "code",
   "execution_count": 46,
   "metadata": {
    "collapsed": false
   },
   "outputs": [
    {
     "name": "stdout",
     "output_type": "stream",
     "text": [
      "R-squared  :  0.9449581808295875\n"
     ]
    }
   ],
   "source": [
    "R_2 = rfr.score(X_train, y_train) \n",
    "print(\"R-squared  : \",R_2)"
   ]
  },
  {
   "cell_type": "code",
   "execution_count": 47,
   "metadata": {
    "collapsed": false
   },
   "outputs": [
    {
     "name": "stdout",
     "output_type": "stream",
     "text": [
      "Adjusted R-squared :  0.9441826060969423\n"
     ]
    }
   ],
   "source": [
    "adj_R_2 = R_2 - (1 - R_2) * (X_train.shape[1] / (X_train.shape[0] - X_train.shape[1] - 1))\n",
    "print(\"Adjusted R-squared : \",adj_R_2)"
   ]
  }
 ],
 "metadata": {
  "kernelspec": {
   "display_name": "Python 3",
   "language": "python",
   "name": "python3"
  },
  "language_info": {
   "codemirror_mode": {
    "name": "ipython",
    "version": 3
   },
   "file_extension": ".py",
   "mimetype": "text/x-python",
   "name": "python",
   "nbconvert_exporter": "python",
   "pygments_lexer": "ipython3",
   "version": "3.6.3"
  }
 },
 "nbformat": 4,
 "nbformat_minor": 2
}
