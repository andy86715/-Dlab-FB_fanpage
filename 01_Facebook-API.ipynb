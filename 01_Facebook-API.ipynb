{
 "cells": [
  {
   "cell_type": "code",
   "execution_count": 1,
   "metadata": {
    "collapsed": true
   },
   "outputs": [],
   "source": [
    "import json\n",
    "import requests"
   ]
  },
  {
   "cell_type": "markdown",
   "metadata": {},
   "source": [
    "# Facebook API"
   ]
  },
  {
   "cell_type": "code",
   "execution_count": 2,
   "metadata": {
    "collapsed": true
   },
   "outputs": [],
   "source": [
    "token = 'EAAVBPxZBVDb8BAIk78UfZBuID04j8VrrPT29IOOVUB8Dmo5WZCa7uFIRlhpGjiW1ZBmiKLwS769xukxNUZAzoNri57UrL5ELd9ZBkY9xlre6WgYXWl49QHK0qiBZBAG5e35bUTWVGhEPDhoxv5tbehZBeDybBZBO6Qr9K3C28yfQrQtHnmuFv8QQZCeDws22ZBB1NcZD'\n",
    "res = requests.get('https://graph.facebook.com/v2.9/{}/posts?fields=id,message,type,created_time,link,shares,comments.limit(0).summary(true),likes.limit(0).summary(total_count).as(reaction_like),reactions.type(LOVE).limit(0).summary(total_count).as(reactions_love),reactions.type(WOW).limit(0).summary(total_count).as(reactions_wow),reactions.type(HAHA).limit(0).summary(total_count).as(reactions_haha),reactions.type(SAD).limit(0).summary(total_count).as(reactions_sad),reactions.type(ANGRY).limit(0).summary(total_count).as(reactions_angry)&access_token={}'.format(325767030937170, token))"
   ]
  },
  {
   "cell_type": "code",
   "execution_count": 5,
   "metadata": {
    "collapsed": false,
    "scrolled": true
   },
   "outputs": [
    {
     "name": "stdout",
     "output_type": "stream",
     "text": [
      "{'data': [{'id': '325767030937170_1050616578452208', 'message': '【徵才】\\n原友蘭教授 誠徵 #專任全職助理\\n\\n➡️工作地點：東海大學\\n工作時間：週一到週五，#沒有打卡，但是每週會需要固定一天報告進度\\n➡️工作條件：英文能書信溝通、統計分析、報告撰寫，會處理 #GoogleAnalysis 資料或是R語言的優先考慮\\n➡️工作福利：\\n* 有3-4次出國機會(印尼與菲律賓)\\n* 包含住宿與機票\\n➡️薪資待遇：\\n* 32000-34000之間+勞健保+一個月年終\\n\\n➡️其他事項：\\n* 有碩士學會就可申請在東海兼課\\n* 會幫忙申請教師證\\n\\n➡️聯繫方式：\\n* yoyoyuan@go.thu.edu.tw\\n* 0910-659134', 'type': 'status', 'created_time': '2018-11-06T02:55:08+0000', 'shares': {'count': 1}, 'comments': {'data': [], 'summary': {'order': 'ranked', 'total_count': 0, 'can_comment': True}}, 'reaction_like': {'data': [], 'summary': {'total_count': 12}}, 'reactions_love': {'data': [], 'summary': {'total_count': 0}}, 'reactions_wow': {'data': [], 'summary': {'total_count': 0}}, 'reactions_haha': {'data': [], 'summary': {'total_count': 0}}, 'reactions_sad': {'data': [], 'summary': {'total_count': 0}}, 'reactions_angry': {'data': [], 'summary': {'total_count': 0}}}, {'id': '325767030937170_1045065325674000', 'message': '【東吳巨資碩士甄試報名】\\n網路蓬勃發展的時代，KOL的人數也逐漸上升，\\n但究竟要如何經營，卻苦了很多人的頭腦，\\n但現在，數據將會替你預測出貼文讚數，\\n甚至能替你檢測是不是潛力KOL！！\\n\\n就是現在！東吳巨資碩士班甄試招生開跑😎\\n人生只有一次，千萬別讓自己後悔、被時代淘汰\\n⭐碩士甄試報名開始：107.10.17 10:00\\n⭐碩士甄試報名截止：107.10.29 17:00\\n⭐東吳巨資學院官網： http://bigdata.scu.edu.tw/\\n⭐碩士甄試報名懶人包：https://www.apply-bigdata.info/\\n#深度學習是個寶 #大多人都想學得好 #加入巨資方能學得巧', 'type': 'photo', 'created_time': '2018-10-26T15:30:42+0000', 'link': 'https://www.facebook.com/scubigdata/photos/a.358418851005321/1045065175674015/?type=3', 'comments': {'data': [], 'summary': {'order': 'ranked', 'total_count': 0, 'can_comment': True}}, 'reaction_like': {'data': [], 'summary': {'total_count': 15}}, 'reactions_love': {'data': [], 'summary': {'total_count': 0}}, 'reactions_wow': {'data': [], 'summary': {'total_count': 0}}, 'reactions_haha': {'data': [], 'summary': {'total_count': 0}}, 'reactions_sad': {'data': [], 'summary': {'total_count': 0}}, 'reactions_angry': {'data': [], 'summary': {'total_count': 0}}}, {'id': '325767030937170_1043766419137224', 'message': '【東吳巨資碩士甄試報名】\\n想要了解時下深度學習、AI究竟是什麼嗎？\\n就是現在！東吳巨資碩士班甄試招生開跑😎\\n人生只有一次，千萬別讓自己後悔、被時代淘汰\\n\\n⭐碩士甄試報名開始：107.10.17 10:00\\n⭐碩士甄試報名截止：107.10.29 17:00\\n⭐東吳巨資學院官網： http://bigdata.scu.edu.tw/\\n⭐碩士甄試報名懶人包：https://www.apply-bigdata.info/', 'type': 'photo', 'created_time': '2018-10-24T04:50:17+0000', 'link': 'https://www.facebook.com/scubigdata/photos/a.358418851005321/1043764119137454/?type=3', 'shares': {'count': 8}, 'comments': {'data': [], 'summary': {'order': 'ranked', 'total_count': 9, 'can_comment': True}}, 'reaction_like': {'data': [], 'summary': {'total_count': 36}}, 'reactions_love': {'data': [], 'summary': {'total_count': 2}}, 'reactions_wow': {'data': [], 'summary': {'total_count': 0}}, 'reactions_haha': {'data': [], 'summary': {'total_count': 3}}, 'reactions_sad': {'data': [], 'summary': {'total_count': 0}}, 'reactions_angry': {'data': [], 'summary': {'total_count': 0}}}, {'id': '325767030937170_1041456549368211', 'message': '【東吳巨資碩士甄試報名】\\n還在煩惱報名步驟繁瑣嗎？\\n還在擔心是不是少準備了什麼東西嗎？\\n還在不知道我們到底有什麼課嗎？\\n在此奉上完整懶人包，只要30秒包你通通明白\\n\\n⭐碩士甄試報名懶人包：https://www.apply-bigdata.info/\\n\\n⭐碩士甄試報名開始：107.10.17 10:00\\n⭐碩士甄試報名截止：107.10.29 17:00', 'type': 'status', 'created_time': '2018-10-19T16:07:39+0000', 'shares': {'count': 2}, 'comments': {'data': [], 'summary': {'order': 'ranked', 'total_count': 0, 'can_comment': True}}, 'reaction_like': {'data': [], 'summary': {'total_count': 13}}, 'reactions_love': {'data': [], 'summary': {'total_count': 0}}, 'reactions_wow': {'data': [], 'summary': {'total_count': 0}}, 'reactions_haha': {'data': [], 'summary': {'total_count': 0}}, 'reactions_sad': {'data': [], 'summary': {'total_count': 0}}, 'reactions_angry': {'data': [], 'summary': {'total_count': 0}}}, {'id': '325767030937170_1040710716109461', 'message': '【東吳巨資碩士甄試報名】\\n現在是數據化的時代，你卻還一片徬徨嗎？\\n想要學以致用，習得一些職場必備的技能嗎？\\n就是現在！東吳巨資碩士班甄試招生開跑😎\\n人生只有一次，千萬別讓自己後悔、被時代淘汰\\n\\n⭐碩士甄試報名開始：107.10.17 10:00\\n⭐碩士甄試報名截止：107.10.29 17:00\\n⭐東吳巨資學院官網： http://bigdata.scu.edu.tw/', 'type': 'photo', 'created_time': '2018-10-18T11:00:01+0000', 'link': 'https://www.facebook.com/scubigdata/photos/a.358418851005321/1040703619443504/?type=3', 'shares': {'count': 11}, 'comments': {'data': [], 'summary': {'order': 'ranked', 'total_count': 0, 'can_comment': True}}, 'reaction_like': {'data': [], 'summary': {'total_count': 50}}, 'reactions_love': {'data': [], 'summary': {'total_count': 1}}, 'reactions_wow': {'data': [], 'summary': {'total_count': 0}}, 'reactions_haha': {'data': [], 'summary': {'total_count': 0}}, 'reactions_sad': {'data': [], 'summary': {'total_count': 0}}, 'reactions_angry': {'data': [], 'summary': {'total_count': 0}}}, {'id': '325767030937170_1022647587915774', 'message': '【狂賀！】\\n本院呂明頴老師率領巨資三年級同學參加「2018年公路公共運輸規劃競賽」，榮獲全國實際應用組第一名。\\n重點：#獎金20萬元 \\n\\n#以你們為榮\\n#非常羨慕\\n\\n活動內容：http://bigdata.scu.edu.tw/zh-hant/news/賀！呂明頴老師率領學生團隊參賽勝出奪冠！', 'type': 'photo', 'created_time': '2018-09-12T02:17:13+0000', 'link': 'https://www.facebook.com/scubigdata/photos/a.358418851005321/1022647971249069/?type=3', 'shares': {'count': 1}, 'comments': {'data': [], 'summary': {'order': 'ranked', 'total_count': 1, 'can_comment': True}}, 'reaction_like': {'data': [], 'summary': {'total_count': 60}}, 'reactions_love': {'data': [], 'summary': {'total_count': 1}}, 'reactions_wow': {'data': [], 'summary': {'total_count': 0}}, 'reactions_haha': {'data': [], 'summary': {'total_count': 0}}, 'reactions_sad': {'data': [], 'summary': {'total_count': 0}}, 'reactions_angry': {'data': [], 'summary': {'total_count': 0}}}, {'id': '325767030937170_1013636678816865', 'message': '好消息！\\n本院資料實驗室\\n專為完全不會寫程式的朋友設計【Python 入門課】\\n將於九月正式啟動\\n總共10堂課\\n只要你對於python有興趣，都適合！都歡迎！', 'type': 'photo', 'created_time': '2018-08-26T05:56:28+0000', 'link': 'https://www.facebook.com/photo.php?fbid=1707844972658881&set=gm.2089168067769665&type=3', 'shares': {'count': 5}, 'comments': {'data': [], 'summary': {'order': 'ranked', 'total_count': 1, 'can_comment': True}}, 'reaction_like': {'data': [], 'summary': {'total_count': 36}}, 'reactions_love': {'data': [], 'summary': {'total_count': 1}}, 'reactions_wow': {'data': [], 'summary': {'total_count': 0}}, 'reactions_haha': {'data': [], 'summary': {'total_count': 0}}, 'reactions_sad': {'data': [], 'summary': {'total_count': 0}}, 'reactions_angry': {'data': [], 'summary': {'total_count': 0}}}, {'id': '325767030937170_964237190423481', 'message': '雙螺旋大數據人才培育計畫：與企業共同育才接軌國際', 'type': 'status', 'created_time': '2018-07-10T08:25:46+0000', 'shares': {'count': 6}, 'comments': {'data': [], 'summary': {'order': 'ranked', 'total_count': 0, 'can_comment': True}}, 'reaction_like': {'data': [], 'summary': {'total_count': 38}}, 'reactions_love': {'data': [], 'summary': {'total_count': 0}}, 'reactions_wow': {'data': [], 'summary': {'total_count': 0}}, 'reactions_haha': {'data': [], 'summary': {'total_count': 0}}, 'reactions_sad': {'data': [], 'summary': {'total_count': 0}}, 'reactions_angry': {'data': [], 'summary': {'total_count': 0}}}, {'id': '325767030937170_962364647277402', 'message': '東吳巨資學院與矽谷合作，體現數據實戰力', 'type': 'status', 'created_time': '2018-07-08T09:02:06+0000', 'shares': {'count': 8}, 'comments': {'data': [], 'summary': {'order': 'ranked', 'total_count': 0, 'can_comment': True}}, 'reaction_like': {'data': [], 'summary': {'total_count': 84}}, 'reactions_love': {'data': [], 'summary': {'total_count': 1}}, 'reactions_wow': {'data': [], 'summary': {'total_count': 4}}, 'reactions_haha': {'data': [], 'summary': {'total_count': 0}}, 'reactions_sad': {'data': [], 'summary': {'total_count': 0}}, 'reactions_angry': {'data': [], 'summary': {'total_count': 0}}}, {'id': '325767030937170_928664470647420', 'message': 'Good article, good to share with you. Please enjoy!', 'type': 'link', 'created_time': '2018-05-23T06:59:18+0000', 'link': 'https://engineering.linkedin.com/blog/2018/04/behind--big-data--and--ai---elements-of-modern-data-science', 'comments': {'data': [], 'summary': {'order': 'ranked', 'total_count': 0, 'can_comment': True}}, 'reaction_like': {'data': [], 'summary': {'total_count': 14}}, 'reactions_love': {'data': [], 'summary': {'total_count': 0}}, 'reactions_wow': {'data': [], 'summary': {'total_count': 0}}, 'reactions_haha': {'data': [], 'summary': {'total_count': 0}}, 'reactions_sad': {'data': [], 'summary': {'total_count': 0}}, 'reactions_angry': {'data': [], 'summary': {'total_count': 0}}}, {'id': '325767030937170_925540544293146', 'message': '電子商務在台灣發展至今已二十餘年，期間歷經許多外在情勢變化，其中最明顯的改變有連網設備普及、連網費用下降、智慧型手機普及等，這些都表明了電子商務正走在一條不斷進化的道路上。近年來大數據概念興起，使得電子商務的大數據相關應用呈現多元化趨勢。這意味著，大數據或是電子商務早已是一項跨領域之技能。有感於市面上大數據電子商務相關書籍多數局限於概念傳達，即便是實作型書籍也過於艱深難懂。有鑑於此，本書兩位作者協同各自跨領域專長及校內教學經驗，共同撰述符合資訊、商管、財務金融或社會科學領域適用之大數據電子商務教材。此《成為大數據電子商務人才的第一本書》一書共計有五大篇15 個章節，每一章節皆包含理論、個案與實作，特別是在實作部分大量採用免費或試用版軟體，期許廣大讀者能以最低成本吸收大數據電子商務新知。再者，為了因應大數據電子商務的持續進化，本書內容廣泛的將輿情探索、網路爬蟲、社群網路分析、網站流量分析、超音波非主動式推播、AR 擴增實境、資料視覺化以及智慧客服機器人等議題納入，這些議題在大數據電子商務中皆屬重要應用，本書手把手的教導讀者，使讀者能夠從中學習到實務技能，進而縮小學用落差。2018 年正值大數據應用的衝刺階段，相信讀者從本書內容中可以收獲許多大數據電子商務知識，使大家得以順利的銜接大數據盛世。', 'type': 'link', 'created_time': '2018-05-16T14:12:56+0000', 'link': 'http://www.books.com.tw/products/0010786214?loc=P_010_023', 'shares': {'count': 5}, 'comments': {'data': [], 'summary': {'order': 'ranked', 'total_count': 0, 'can_comment': True}}, 'reaction_like': {'data': [], 'summary': {'total_count': 43}}, 'reactions_love': {'data': [], 'summary': {'total_count': 0}}, 'reactions_wow': {'data': [], 'summary': {'total_count': 0}}, 'reactions_haha': {'data': [], 'summary': {'total_count': 0}}, 'reactions_sad': {'data': [], 'summary': {'total_count': 0}}, 'reactions_angry': {'data': [], 'summary': {'total_count': 0}}}, {'id': '325767030937170_915217608658773', 'message': '【☀️學士後巨量資料分析學士學位學程\\u3000招生中☀️】\\n全民網路時代來臨，大數據已是必備\\n但究竟你真的理解大數據嗎？你能跟上這波趨勢嗎？\\n在這裡，開發你的「第二專長」成為資料科學家😎\\n\\n⭐報名時間：107.4.10~5.10\\n⭐招生名額：60名\\n⭐面試日期：107.06.09\\n⭐招生簡章：https://goo.gl/hNgv8c', 'type': 'photo', 'created_time': '2018-04-25T03:55:07+0000', 'link': 'https://www.facebook.com/scubigdata/photos/a.358418851005321/915212848659249/?type=3', 'shares': {'count': 7}, 'comments': {'data': [], 'summary': {'order': 'ranked', 'total_count': 1, 'can_comment': True}}, 'reaction_like': {'data': [], 'summary': {'total_count': 30}}, 'reactions_love': {'data': [], 'summary': {'total_count': 2}}, 'reactions_wow': {'data': [], 'summary': {'total_count': 0}}, 'reactions_haha': {'data': [], 'summary': {'total_count': 0}}, 'reactions_sad': {'data': [], 'summary': {'total_count': 0}}, 'reactions_angry': {'data': [], 'summary': {'total_count': 0}}}, {'id': '325767030937170_896909693822898', 'message': '#學生有優惠票唷 #只剩不到20張！\\n相關活動細節，請參閱以下連結！', 'type': 'photo', 'created_time': '2018-03-19T05:04:04+0000', 'link': 'https://www.facebook.com/WiDSTaipei/photos/a.188272111902987/195585064505025/?type=3', 'comments': {'data': [], 'summary': {'order': 'ranked', 'total_count': 0, 'can_comment': True}}, 'reaction_like': {'data': [], 'summary': {'total_count': 18}}, 'reactions_love': {'data': [], 'summary': {'total_count': 0}}, 'reactions_wow': {'data': [], 'summary': {'total_count': 0}}, 'reactions_haha': {'data': [], 'summary': {'total_count': 0}}, 'reactions_sad': {'data': [], 'summary': {'total_count': 0}}, 'reactions_angry': {'data': [], 'summary': {'total_count': 0}}}, {'id': '325767030937170_888165471363987', 'message': '大數據作者  麥爾荀伯格剛出新書：大數據資本主義\\n\\n很值得大數據相關人士閱讀唷!\\n\\nhttps://bookzone.cwgv.com.tw/books/details/BCB640', 'type': 'link', 'created_time': '2018-03-02T07:22:20+0000', 'link': 'https://bookzone.cwgv.com.tw/books/details/BCB640', 'shares': {'count': 7}, 'comments': {'data': [], 'summary': {'order': 'ranked', 'total_count': 0, 'can_comment': True}}, 'reaction_like': {'data': [], 'summary': {'total_count': 37}}, 'reactions_love': {'data': [], 'summary': {'total_count': 0}}, 'reactions_wow': {'data': [], 'summary': {'total_count': 1}}, 'reactions_haha': {'data': [], 'summary': {'total_count': 1}}, 'reactions_sad': {'data': [], 'summary': {'total_count': 0}}, 'reactions_angry': {'data': [], 'summary': {'total_count': 0}}}, {'id': '325767030937170_864128853767649', 'message': '非常棒的分享！[1 mins read]\\n如何展現自己能夠與團隊一同解決問題的能力？\\n值得大家一讀與分享！', 'type': 'photo', 'created_time': '2018-01-15T07:09:12+0000', 'link': 'https://www.facebook.com/photo.php?fbid=1996648893693434&set=gm.1619242168165436&type=3', 'comments': {'data': [], 'summary': {'order': 'ranked', 'total_count': 0, 'can_comment': True}}, 'reaction_like': {'data': [], 'summary': {'total_count': 10}}, 'reactions_love': {'data': [], 'summary': {'total_count': 1}}, 'reactions_wow': {'data': [], 'summary': {'total_count': 0}}, 'reactions_haha': {'data': [], 'summary': {'total_count': 0}}, 'reactions_sad': {'data': [], 'summary': {'total_count': 0}}, 'reactions_angry': {'data': [], 'summary': {'total_count': 0}}}, {'id': '325767030937170_862380757275792', 'message': '【📣好康活動抽獎📣】\\n全新產業實習計畫，需要你的加入\\n-\\n巨資學院重視實務與理論結合，\\n為了讓實習制度更加完善，\\n使同學找到理想的公司、業界找到合適的人才(實習生)，\\n我們需要各位 #同學 及 #業界朋友 們的建議，\\n以優化產業實習計畫的制度與流程！\\n\\n如果產業有用人需求也可以和我們聯繫❤️\\n-\\n⭐活動辦法：\\nStep1. 先完成以下產業實習問卷－https://goo.gl/S11kYb\\nStep2. tag 2位好友並留言「產業實習，全新出擊」\\nStep3. 「公開分享」此貼文\\n⭐抽獎獎品：7-11超商$500元禮卷，共3名\\n⭐活動時間：1/11(四)~1/26(五)\\n\\n#產業實習 #全新出擊 #需要你的加入\\n#好康抽獎 #快來分享 #等你拿大獎', 'type': 'link', 'created_time': '2018-01-11T11:37:32+0000', 'link': 'https://goo.gl/S11kYb', 'shares': {'count': 5}, 'comments': {'data': [], 'summary': {'order': 'ranked', 'total_count': 10, 'can_comment': True}}, 'reaction_like': {'data': [], 'summary': {'total_count': 20}}, 'reactions_love': {'data': [], 'summary': {'total_count': 1}}, 'reactions_wow': {'data': [], 'summary': {'total_count': 0}}, 'reactions_haha': {'data': [], 'summary': {'total_count': 0}}, 'reactions_sad': {'data': [], 'summary': {'total_count': 0}}, 'reactions_angry': {'data': [], 'summary': {'total_count': 0}}}, {'id': '325767030937170_856380404542494', 'message': '【碩專畢業生訪談文－PART 7 】\\n📣巨資碩專學長姐x快問快答📣\\n\\n相信大家看完一連串學長姊的分享後，\\n對於如何朝大數據方面前進有了更進一步的方向，\\n小編趁著訪談完的空檔進行了快問快答！\\n讓這些資深學長姐們展現不同的一面\\n學長姐們的極力推薦！不要再猶豫，立馬手刀報名！\\n-\\n今年錄取名額提高至45人！\\n且有分成 資訊科技組 及 資料應用組 ！\\nCP值高，綠取名額又提高，趕緊來報名吧！\\n-\\n➡️碩專報名時間：106.12.20~107.01.02\\n➡️毫不猶豫報名專區：https://exam.sys.scu.edu.tw/examweb/\\n➡️碩專報名簡章：https://goo.gl/S1jqyQ\\n➡️碩士考試簡章：https://goo.gl/7urEj5\\n➡️報名懶人包：https://www.apply-bigdata.info/', 'type': 'video', 'created_time': '2017-12-30T06:53:13+0000', 'link': 'https://www.facebook.com/scubigdata/videos/856380404542494/', 'shares': {'count': 1}, 'comments': {'data': [], 'summary': {'order': 'ranked', 'total_count': 1, 'can_comment': True}}, 'reaction_like': {'data': [], 'summary': {'total_count': 39}}, 'reactions_love': {'data': [], 'summary': {'total_count': 3}}, 'reactions_wow': {'data': [], 'summary': {'total_count': 1}}, 'reactions_haha': {'data': [], 'summary': {'total_count': 2}}, 'reactions_sad': {'data': [], 'summary': {'total_count': 0}}, 'reactions_angry': {'data': [], 'summary': {'total_count': 0}}}, {'id': '325767030937170_855161324664402', 'message': '【碩專畢業生訪談文－PART 6 】\\n📣永豐銀行消金處－吳信宏學長📣\\n\\n信宏學長在工作上原先的作法是以經驗為導向，\\n但經驗很難被保留下來而且容易隨著時間而改變，\\n透過數據不只能夠找出更客觀的答案，\\n還能用科學化的方式累積經驗必留在組織中。\\n-\\n➡️永豐 Follow ME: https://www.facebook.com/SinoPac/\\n永豐銀行以綿密的營業網路、高度創新的商品組合，為客戶提供最佳的金融服務，藉由「新貨幣、新市場、新通路」三大主軸，實現「客戶喜歡、股東滿意、社會尊敬、同仁驕傲」的四大願景。\\n-\\n➡️碩專報名時間：106.12.20~107.01.02\\n➡️碩專報名簡章：https://goo.gl/S1jqyQ\\n➡️碩士考試簡章：https://goo.gl/7urEj5\\n➡️報名懶人包：https://www.apply-bigdata.info/', 'type': 'photo', 'created_time': '2017-12-28T04:12:56+0000', 'link': 'https://www.facebook.com/scubigdata/photos/a.358418851005321/855161081331093/?type=3', 'shares': {'count': 1}, 'comments': {'data': [], 'summary': {'order': 'ranked', 'total_count': 0, 'can_comment': True}}, 'reaction_like': {'data': [], 'summary': {'total_count': 13}}, 'reactions_love': {'data': [], 'summary': {'total_count': 0}}, 'reactions_wow': {'data': [], 'summary': {'total_count': 1}}, 'reactions_haha': {'data': [], 'summary': {'total_count': 0}}, 'reactions_sad': {'data': [], 'summary': {'total_count': 0}}, 'reactions_angry': {'data': [], 'summary': {'total_count': 0}}}, {'id': '325767030937170_855160087997859', 'message': '【大數據頂尖人物來演講啦！！】\\n📣LinkedIn大數據總監－Chi-Yi Kuan📣\\n\\n很榮幸的，我們在這個學期邀請到美國矽谷LinkedIn總部的大數據總監Chi-Yi Kuan，來和大家分享LinkedIn在資料分析中端到端的應用。\\n\\n總監在演講中細分了三大塊Data、Analytic、Talent，每一個環節都以Linkedin做了什麼來分享，演講內容相當的精彩！演講後的Q&A更是讓各位對大數據懷有更大的期望與抱負。\\n-\\n➡️碩專報名時間：106.12.20~107.01.02\\n➡️碩專報名簡章：https://goo.gl/S1jqyQ\\n➡️碩士考試簡章：https://goo.gl/7urEj5\\n➡️報名懶人包：https://www.apply-bigdata.info/', 'type': 'photo', 'created_time': '2017-12-27T14:37:31+0000', 'link': 'https://www.facebook.com/scubigdata/photos/a.358418851005321/855159554664579/?type=3', 'shares': {'count': 3}, 'comments': {'data': [], 'summary': {'order': 'ranked', 'total_count': 0, 'can_comment': True}}, 'reaction_like': {'data': [], 'summary': {'total_count': 38}}, 'reactions_love': {'data': [], 'summary': {'total_count': 0}}, 'reactions_wow': {'data': [], 'summary': {'total_count': 0}}, 'reactions_haha': {'data': [], 'summary': {'total_count': 0}}, 'reactions_sad': {'data': [], 'summary': {'total_count': 0}}, 'reactions_angry': {'data': [], 'summary': {'total_count': 0}}}, {'id': '325767030937170_854524454728089', 'message': '【全新獨創！最新碩專課程地圖】\\n巨資學院聽了許多建議，於是在今年推出 #全新碩專課表\\n將課程分為兩大組別－#資訊科技組 及 #資料應用組\\n可以依照自己的需求，選擇想學習的課程\\n今年招生錄取名額還提高至４５人！！\\n還不趕快踏入 #大數據 的行列之中❤️\\n-\\n➡️碩專報名時間：106.12.20~107.01.02\\n➡️碩專報名簡章：https://goo.gl/S1jqyQ\\n➡️報名懶人包：https://www.apply-bigdata.info/\\n#傾聽你的需求 #滿足你的要求 #成就每個某某 #一起創造不朽', 'type': 'link', 'created_time': '2017-12-26T06:35:14+0000', 'link': 'https://www.apply-bigdata.info/', 'comments': {'data': [], 'summary': {'order': 'ranked', 'total_count': 0, 'can_comment': True}}, 'reaction_like': {'data': [], 'summary': {'total_count': 8}}, 'reactions_love': {'data': [], 'summary': {'total_count': 0}}, 'reactions_wow': {'data': [], 'summary': {'total_count': 1}}, 'reactions_haha': {'data': [], 'summary': {'total_count': 0}}, 'reactions_sad': {'data': [], 'summary': {'total_count': 0}}, 'reactions_angry': {'data': [], 'summary': {'total_count': 0}}}, {'id': '325767030937170_853788774801657', 'message': '🎉好消息好消息 「東吳巨資」榮獲華南 M.B.A.挑戰獎🎉\\n\\n華南金控子公司及新創團隊業師透過實務經驗與學生交流，共創產、學、研三方數位金融交流平台。\\n\\n⭐「東吳巨資」入圍決賽後在25隊中裡脫穎而出，並且團隊運用金融科技有效解決目前傳統金融的痛點，榮獲 M.B.A.挑戰獎。\\n\\n華南金控透過此次競賽將同時進行人才募集計劃，入圍決賽的25隊、共108位同學，未來3年內將可享免筆試，經面試通過即可進入華南金融集團工作。當天上午，華南金控旗下銀行、證券、產險、及投信等子公司的業務與人資主管都到決賽現場觀看參賽者表現，後續將依參賽者的意願及志願安排深度面談，透過競賽學生可優先掌握進入華南集團的工作機會，成為華南重點培育的數位金融人才。\\n\\n比賽項目：2017華南金控第二屆金融科技創新競賽 \\n得獎紀錄：華南 M.B.A.挑戰獎 (AI組)(新台幣六萬元) \\n隊       名：「東吳巨資」\\n參賽隊員：楊涓、劉聿欣、李姿儀、蔡政宏 \\n指導教授：黃福銘 \\n比賽網站：http://www.hnfhc.com.tw/campaign/2017fintechers/index.html  \\n\\n➡️⭐碩專報名時間：106.12.20~107.01.02\\n➡️⭐碩專報名簡章：https://goo.gl/S1jqyQ\\n➡️⭐報名懶人包：http://www.apply-bigdata.info/', 'type': 'photo', 'created_time': '2017-12-25T04:30:00+0000', 'link': 'https://www.facebook.com/scubigdata/photos/a.358418851005321/853788181468383/?type=3', 'shares': {'count': 3}, 'comments': {'data': [], 'summary': {'order': 'ranked', 'total_count': 3, 'can_comment': True}}, 'reaction_like': {'data': [], 'summary': {'total_count': 41}}, 'reactions_love': {'data': [], 'summary': {'total_count': 1}}, 'reactions_wow': {'data': [], 'summary': {'total_count': 1}}, 'reactions_haha': {'data': [], 'summary': {'total_count': 0}}, 'reactions_sad': {'data': [], 'summary': {'total_count': 0}}, 'reactions_angry': {'data': [], 'summary': {'total_count': 0}}}, {'id': '325767030937170_853660588147809', 'message': '【碩專畢業生訪談文－PART5 】\\n📣勤業眾信風險管理部門－曾韵學姊📣 Christina Tseng\\n\\n對於風險管理這領域來說，\\n單單只用傳統的分析方式已跟不上時代的演進，\\n在這資訊量爆炸的時代，\\n如何準確地用什麼方法去評估風險是一門課題，\\n就一同隨著學姊的腳步在大數據裡找答案吧！\\n-\\n➡️碩專報名時間：106.12.20~107.01.02\\n➡️碩士考試報名時間：106.12.20~107.01.02\\n➡️報名懶人包：https://www.apply-bigdata.info/', 'type': 'photo', 'created_time': '2017-12-24T15:50:01+0000', 'link': 'https://www.facebook.com/scubigdata/photos/a.358418851005321/853660421481159/?type=3', 'shares': {'count': 2}, 'comments': {'data': [], 'summary': {'order': 'ranked', 'total_count': 0, 'can_comment': True}}, 'reaction_like': {'data': [], 'summary': {'total_count': 17}}, 'reactions_love': {'data': [], 'summary': {'total_count': 0}}, 'reactions_wow': {'data': [], 'summary': {'total_count': 0}}, 'reactions_haha': {'data': [], 'summary': {'total_count': 0}}, 'reactions_sad': {'data': [], 'summary': {'total_count': 0}}, 'reactions_angry': {'data': [], 'summary': {'total_count': 0}}}, {'id': '325767030937170_853642894816245', 'message': '【碩專畢業生訪談文－PART4】\\n 📣中時電子報系統部協理－蔡源光學長 📣 Sunny Tsay\\n\\n蔡學長的工作主要是負責中時電子報的網站管理，\\n利用大數據分析了解用戶所喜愛的新聞類型，\\n在碩專班，除了能夠學習如何將大數據與工作結合，\\n還能和不同領域的同學們互相學習交流，\\n也讓學長接觸到在媒體業無法接觸的專業知識。\\n-\\n旺旺集團於2008年11月入主台灣中時媒體集團，提出以「唱旺台灣、旺旺中國人」為媒體經營目標，期勉旺旺媒體人以增進兩岸和諧、構築民間溝通橋樑自許，共同構建出全球華人世界的最大媒體平台！\\n 中時電子報: https://www.facebook.com/CTfans\\n-\\n ➡️碩專報名時間：106.12.20~107.01.02\\n ➡️碩專報名簡章：https://goo.gl/S1jqyQ\\n ➡️報名懶人包：https://www.apply-bigdata.info/\\n\\n#來唸碩班班好處多多 #你還不來嗎 #東吳巨資碩專班', 'type': 'photo', 'created_time': '2017-12-24T12:00:00+0000', 'link': 'https://www.facebook.com/scubigdata/photos/a.358418851005321/853641914816343/?type=3', 'shares': {'count': 1}, 'comments': {'data': [], 'summary': {'order': 'ranked', 'total_count': 1, 'can_comment': True}}, 'reaction_like': {'data': [], 'summary': {'total_count': 13}}, 'reactions_love': {'data': [], 'summary': {'total_count': 0}}, 'reactions_wow': {'data': [], 'summary': {'total_count': 0}}, 'reactions_haha': {'data': [], 'summary': {'total_count': 0}}, 'reactions_sad': {'data': [], 'summary': {'total_count': 0}}, 'reactions_angry': {'data': [], 'summary': {'total_count': 0}}}, {'id': '325767030937170_852247531622448', 'message': '【💡好康報報 _ R-Ladies Taipei Data Viz Open Hack 💡】\\nR Ladies 將於明年1/7日舉辦一場跟Tableau原廠合作的活動\\n要跟大家一起來玩Open Data 視覺化，R Ladies也請到Tableau的專業講師來幫我們上課唷！\\n\\n金額：只需支付活動押金一百元，當天全程參與完扣掉手續費再退回！\\n活動：除了組隊玩Open Data、熟悉Open Data之外，更可以趁機精進自己使用Tableau的能力哦！\\n時間：2018/01/07(日)\\n即日起開放報名，名額有限，要搶要快呀～\\n\\n➡️活動報名：https://www.accupass.com/go/rladiesopendatahack\\n備註：本活動由R-Ladies主辦，當然也僅限女生報名參加哦！\\n活動當天附午餐與午茶，不用擔心餓肚子唷！\\n\\n➡️⭐碩專報名時間：106.12.20~107.01.02\\n➡️⭐碩專報名簡章：https://goo.gl/S1jqyQ\\n➡️⭐報名懶人包：http://d-lab.in/apply_master/index.html', 'type': 'photo', 'created_time': '2017-12-21T14:30:37+0000', 'link': 'https://www.facebook.com/scubigdata/photos/a.358418851005321/852247401622461/?type=3', 'shares': {'count': 1}, 'comments': {'data': [], 'summary': {'order': 'ranked', 'total_count': 0, 'can_comment': True}}, 'reaction_like': {'data': [], 'summary': {'total_count': 17}}, 'reactions_love': {'data': [], 'summary': {'total_count': 0}}, 'reactions_wow': {'data': [], 'summary': {'total_count': 0}}, 'reactions_haha': {'data': [], 'summary': {'total_count': 0}}, 'reactions_sad': {'data': [], 'summary': {'total_count': 0}}, 'reactions_angry': {'data': [], 'summary': {'total_count': 0}}}, {'id': '325767030937170_851758288338039', 'message': '【📣東吳巨資碩專班報名開跑囉📣】\\n還在擔心報名人數眾多，無法被萬中選一的錄取嗎？\\n不用怕！！今年東吳巨資碩專班提高名額至 45人！！\\n錄取率大大的提高，下一個數據科學家就是你妳你🤓\\n\\n還在擔心無法選擇自己想走的方向嗎？\\n不用怕！！今年將碩專班分成資訊科技組及資料應用組！！\\n擇你所愛，愛你所擇😍\\n-\\n➡️碩專報名時間：106.12.20~107.01.02\\n➡️碩專報名簡章：https://goo.gl/S1jqyQ\\n➡️報名懶人包：https://www.apply-bigdata.info/', 'type': 'link', 'created_time': '2017-12-20T13:02:01+0000', 'link': 'https://www.apply-bigdata.info/', 'comments': {'data': [], 'summary': {'order': 'ranked', 'total_count': 0, 'can_comment': True}}, 'reaction_like': {'data': [], 'summary': {'total_count': 12}}, 'reactions_love': {'data': [], 'summary': {'total_count': 0}}, 'reactions_wow': {'data': [], 'summary': {'total_count': 0}}, 'reactions_haha': {'data': [], 'summary': {'total_count': 0}}, 'reactions_sad': {'data': [], 'summary': {'total_count': 0}}, 'reactions_angry': {'data': [], 'summary': {'total_count': 0}}}], 'paging': {'cursors': {'before': 'Q2c4U1pXNTBYM0YxWlhKNVgzTjBiM0o1WDJsa0R5UXpNalUzTmpjd016QTVNemN4TnpBNkxUWXhOalUyT0RZAM09USTFNRGcyTWpVMU16UVBER0ZA3YVY5emRHOXllVjlwWkE4ZA016STFOelkzTURNd09UTTNNVGN3WHpFd05UQTJNVFkxTnpnME5USXlNRGdQQkhScGJXVUdXK0VDakFFPQZDZD', 'after': 'Q2c4U1pXNTBYM0YxWlhKNVgzTjBiM0o1WDJsa0R5TXpNalUzTmpjd016QTVNemN4TnpBNk5qWTNNemd5T0RreE9UazFNemsxTnpBeE13OE1ZAWEJwWDNOMGIzSjVYMmxrRHg4ek1qVTNOamN3TXpBNU16Y3hOekJmT0RVeE56VTRNamc0TXpNNE1ETTVEd1IwYVcxbEJsbzZAYMGtC'}, 'next': 'https://graph.facebook.com/v2.9/325767030937170/posts?access_token=EAAVBPxZBVDb8BAIk78UfZBuID04j8VrrPT29IOOVUB8Dmo5WZCa7uFIRlhpGjiW1ZBmiKLwS769xukxNUZAzoNri57UrL5ELd9ZBkY9xlre6WgYXWl49QHK0qiBZBAG5e35bUTWVGhEPDhoxv5tbehZBeDybBZBO6Qr9K3C28yfQrQtHnmuFv8QQZCeDws22ZBB1NcZD&fields=id%2Cmessage%2Ctype%2Ccreated_time%2Clink%2Cshares%2Ccomments.limit%280%29.summary%28true%29%2Clikes.limit%280%29.summary%28total_count%29.as%28reaction_like%29%2Creactions.type%28LOVE%29.limit%280%29.summary%28total_count%29.as%28reactions_love%29%2Creactions.type%28WOW%29.limit%280%29.summary%28total_count%29.as%28reactions_wow%29%2Creactions.type%28HAHA%29.limit%280%29.summary%28total_count%29.as%28reactions_haha%29%2Creactions.type%28SAD%29.limit%280%29.summary%28total_count%29.as%28reactions_sad%29%2Creactions.type%28ANGRY%29.limit%280%29.summary%28total_count%29.as%28reactions_angry%29&limit=25&after=Q2c4U1pXNTBYM0YxWlhKNVgzTjBiM0o1WDJsa0R5TXpNalUzTmpjd016QTVNemN4TnpBNk5qWTNNemd5T0RreE9UazFNemsxTnpBeE13OE1ZAWEJwWDNOMGIzSjVYMmxrRHg4ek1qVTNOamN3TXpBNU16Y3hOekJmT0RVeE56VTRNamc0TXpNNE1ETTVEd1IwYVcxbEJsbzZAYMGtC'}}\n"
     ]
    }
   ],
   "source": [
    "fanpage = json.loads(res.text)\n",
    "print(fanpage)"
   ]
  },
  {
   "cell_type": "code",
   "execution_count": 4,
   "metadata": {
    "collapsed": false,
    "scrolled": true
   },
   "outputs": [
    {
     "data": {
      "text/plain": [
       "[{'comments': {'data': [],\n",
       "   'summary': {'can_comment': True, 'order': 'ranked', 'total_count': 0}},\n",
       "  'created_time': '2018-11-06T02:55:08+0000',\n",
       "  'id': '325767030937170_1050616578452208',\n",
       "  'message': '【徵才】\\n原友蘭教授 誠徵 #專任全職助理\\n\\n➡️工作地點：東海大學\\n工作時間：週一到週五，#沒有打卡，但是每週會需要固定一天報告進度\\n➡️工作條件：英文能書信溝通、統計分析、報告撰寫，會處理 #GoogleAnalysis 資料或是R語言的優先考慮\\n➡️工作福利：\\n* 有3-4次出國機會(印尼與菲律賓)\\n* 包含住宿與機票\\n➡️薪資待遇：\\n* 32000-34000之間+勞健保+一個月年終\\n\\n➡️其他事項：\\n* 有碩士學會就可申請在東海兼課\\n* 會幫忙申請教師證\\n\\n➡️聯繫方式：\\n* yoyoyuan@go.thu.edu.tw\\n* 0910-659134',\n",
       "  'reaction_like': {'data': [], 'summary': {'total_count': 12}},\n",
       "  'reactions_angry': {'data': [], 'summary': {'total_count': 0}},\n",
       "  'reactions_haha': {'data': [], 'summary': {'total_count': 0}},\n",
       "  'reactions_love': {'data': [], 'summary': {'total_count': 0}},\n",
       "  'reactions_sad': {'data': [], 'summary': {'total_count': 0}},\n",
       "  'reactions_wow': {'data': [], 'summary': {'total_count': 0}},\n",
       "  'shares': {'count': 1},\n",
       "  'type': 'status'},\n",
       " {'comments': {'data': [],\n",
       "   'summary': {'can_comment': True, 'order': 'ranked', 'total_count': 0}},\n",
       "  'created_time': '2018-10-26T15:30:42+0000',\n",
       "  'id': '325767030937170_1045065325674000',\n",
       "  'link': 'https://www.facebook.com/scubigdata/photos/a.358418851005321/1045065175674015/?type=3',\n",
       "  'message': '【東吳巨資碩士甄試報名】\\n網路蓬勃發展的時代，KOL的人數也逐漸上升，\\n但究竟要如何經營，卻苦了很多人的頭腦，\\n但現在，數據將會替你預測出貼文讚數，\\n甚至能替你檢測是不是潛力KOL！！\\n\\n就是現在！東吳巨資碩士班甄試招生開跑😎\\n人生只有一次，千萬別讓自己後悔、被時代淘汰\\n⭐碩士甄試報名開始：107.10.17 10:00\\n⭐碩士甄試報名截止：107.10.29 17:00\\n⭐東吳巨資學院官網： http://bigdata.scu.edu.tw/\\n⭐碩士甄試報名懶人包：https://www.apply-bigdata.info/\\n#深度學習是個寶 #大多人都想學得好 #加入巨資方能學得巧',\n",
       "  'reaction_like': {'data': [], 'summary': {'total_count': 15}},\n",
       "  'reactions_angry': {'data': [], 'summary': {'total_count': 0}},\n",
       "  'reactions_haha': {'data': [], 'summary': {'total_count': 0}},\n",
       "  'reactions_love': {'data': [], 'summary': {'total_count': 0}},\n",
       "  'reactions_sad': {'data': [], 'summary': {'total_count': 0}},\n",
       "  'reactions_wow': {'data': [], 'summary': {'total_count': 0}},\n",
       "  'type': 'photo'},\n",
       " {'comments': {'data': [],\n",
       "   'summary': {'can_comment': True, 'order': 'ranked', 'total_count': 9}},\n",
       "  'created_time': '2018-10-24T04:50:17+0000',\n",
       "  'id': '325767030937170_1043766419137224',\n",
       "  'link': 'https://www.facebook.com/scubigdata/photos/a.358418851005321/1043764119137454/?type=3',\n",
       "  'message': '【東吳巨資碩士甄試報名】\\n想要了解時下深度學習、AI究竟是什麼嗎？\\n就是現在！東吳巨資碩士班甄試招生開跑😎\\n人生只有一次，千萬別讓自己後悔、被時代淘汰\\n\\n⭐碩士甄試報名開始：107.10.17 10:00\\n⭐碩士甄試報名截止：107.10.29 17:00\\n⭐東吳巨資學院官網： http://bigdata.scu.edu.tw/\\n⭐碩士甄試報名懶人包：https://www.apply-bigdata.info/',\n",
       "  'reaction_like': {'data': [], 'summary': {'total_count': 36}},\n",
       "  'reactions_angry': {'data': [], 'summary': {'total_count': 0}},\n",
       "  'reactions_haha': {'data': [], 'summary': {'total_count': 3}},\n",
       "  'reactions_love': {'data': [], 'summary': {'total_count': 2}},\n",
       "  'reactions_sad': {'data': [], 'summary': {'total_count': 0}},\n",
       "  'reactions_wow': {'data': [], 'summary': {'total_count': 0}},\n",
       "  'shares': {'count': 8},\n",
       "  'type': 'photo'},\n",
       " {'comments': {'data': [],\n",
       "   'summary': {'can_comment': True, 'order': 'ranked', 'total_count': 0}},\n",
       "  'created_time': '2018-10-19T16:07:39+0000',\n",
       "  'id': '325767030937170_1041456549368211',\n",
       "  'message': '【東吳巨資碩士甄試報名】\\n還在煩惱報名步驟繁瑣嗎？\\n還在擔心是不是少準備了什麼東西嗎？\\n還在不知道我們到底有什麼課嗎？\\n在此奉上完整懶人包，只要30秒包你通通明白\\n\\n⭐碩士甄試報名懶人包：https://www.apply-bigdata.info/\\n\\n⭐碩士甄試報名開始：107.10.17 10:00\\n⭐碩士甄試報名截止：107.10.29 17:00',\n",
       "  'reaction_like': {'data': [], 'summary': {'total_count': 13}},\n",
       "  'reactions_angry': {'data': [], 'summary': {'total_count': 0}},\n",
       "  'reactions_haha': {'data': [], 'summary': {'total_count': 0}},\n",
       "  'reactions_love': {'data': [], 'summary': {'total_count': 0}},\n",
       "  'reactions_sad': {'data': [], 'summary': {'total_count': 0}},\n",
       "  'reactions_wow': {'data': [], 'summary': {'total_count': 0}},\n",
       "  'shares': {'count': 2},\n",
       "  'type': 'status'},\n",
       " {'comments': {'data': [],\n",
       "   'summary': {'can_comment': True, 'order': 'ranked', 'total_count': 0}},\n",
       "  'created_time': '2018-10-18T11:00:01+0000',\n",
       "  'id': '325767030937170_1040710716109461',\n",
       "  'link': 'https://www.facebook.com/scubigdata/photos/a.358418851005321/1040703619443504/?type=3',\n",
       "  'message': '【東吳巨資碩士甄試報名】\\n現在是數據化的時代，你卻還一片徬徨嗎？\\n想要學以致用，習得一些職場必備的技能嗎？\\n就是現在！東吳巨資碩士班甄試招生開跑😎\\n人生只有一次，千萬別讓自己後悔、被時代淘汰\\n\\n⭐碩士甄試報名開始：107.10.17 10:00\\n⭐碩士甄試報名截止：107.10.29 17:00\\n⭐東吳巨資學院官網： http://bigdata.scu.edu.tw/',\n",
       "  'reaction_like': {'data': [], 'summary': {'total_count': 50}},\n",
       "  'reactions_angry': {'data': [], 'summary': {'total_count': 0}},\n",
       "  'reactions_haha': {'data': [], 'summary': {'total_count': 0}},\n",
       "  'reactions_love': {'data': [], 'summary': {'total_count': 1}},\n",
       "  'reactions_sad': {'data': [], 'summary': {'total_count': 0}},\n",
       "  'reactions_wow': {'data': [], 'summary': {'total_count': 0}},\n",
       "  'shares': {'count': 11},\n",
       "  'type': 'photo'},\n",
       " {'comments': {'data': [],\n",
       "   'summary': {'can_comment': True, 'order': 'ranked', 'total_count': 1}},\n",
       "  'created_time': '2018-09-12T02:17:13+0000',\n",
       "  'id': '325767030937170_1022647587915774',\n",
       "  'link': 'https://www.facebook.com/scubigdata/photos/a.358418851005321/1022647971249069/?type=3',\n",
       "  'message': '【狂賀！】\\n本院呂明頴老師率領巨資三年級同學參加「2018年公路公共運輸規劃競賽」，榮獲全國實際應用組第一名。\\n重點：#獎金20萬元 \\n\\n#以你們為榮\\n#非常羨慕\\n\\n活動內容：http://bigdata.scu.edu.tw/zh-hant/news/賀！呂明頴老師率領學生團隊參賽勝出奪冠！',\n",
       "  'reaction_like': {'data': [], 'summary': {'total_count': 60}},\n",
       "  'reactions_angry': {'data': [], 'summary': {'total_count': 0}},\n",
       "  'reactions_haha': {'data': [], 'summary': {'total_count': 0}},\n",
       "  'reactions_love': {'data': [], 'summary': {'total_count': 1}},\n",
       "  'reactions_sad': {'data': [], 'summary': {'total_count': 0}},\n",
       "  'reactions_wow': {'data': [], 'summary': {'total_count': 0}},\n",
       "  'shares': {'count': 1},\n",
       "  'type': 'photo'},\n",
       " {'comments': {'data': [],\n",
       "   'summary': {'can_comment': True, 'order': 'ranked', 'total_count': 1}},\n",
       "  'created_time': '2018-08-26T05:56:28+0000',\n",
       "  'id': '325767030937170_1013636678816865',\n",
       "  'link': 'https://www.facebook.com/photo.php?fbid=1707844972658881&set=gm.2089168067769665&type=3',\n",
       "  'message': '好消息！\\n本院資料實驗室\\n專為完全不會寫程式的朋友設計【Python 入門課】\\n將於九月正式啟動\\n總共10堂課\\n只要你對於python有興趣，都適合！都歡迎！',\n",
       "  'reaction_like': {'data': [], 'summary': {'total_count': 36}},\n",
       "  'reactions_angry': {'data': [], 'summary': {'total_count': 0}},\n",
       "  'reactions_haha': {'data': [], 'summary': {'total_count': 0}},\n",
       "  'reactions_love': {'data': [], 'summary': {'total_count': 1}},\n",
       "  'reactions_sad': {'data': [], 'summary': {'total_count': 0}},\n",
       "  'reactions_wow': {'data': [], 'summary': {'total_count': 0}},\n",
       "  'shares': {'count': 5},\n",
       "  'type': 'photo'},\n",
       " {'comments': {'data': [],\n",
       "   'summary': {'can_comment': True, 'order': 'ranked', 'total_count': 0}},\n",
       "  'created_time': '2018-07-10T08:25:46+0000',\n",
       "  'id': '325767030937170_964237190423481',\n",
       "  'message': '雙螺旋大數據人才培育計畫：與企業共同育才接軌國際',\n",
       "  'reaction_like': {'data': [], 'summary': {'total_count': 37}},\n",
       "  'reactions_angry': {'data': [], 'summary': {'total_count': 0}},\n",
       "  'reactions_haha': {'data': [], 'summary': {'total_count': 0}},\n",
       "  'reactions_love': {'data': [], 'summary': {'total_count': 0}},\n",
       "  'reactions_sad': {'data': [], 'summary': {'total_count': 0}},\n",
       "  'reactions_wow': {'data': [], 'summary': {'total_count': 0}},\n",
       "  'shares': {'count': 6},\n",
       "  'type': 'status'},\n",
       " {'comments': {'data': [],\n",
       "   'summary': {'can_comment': True, 'order': 'ranked', 'total_count': 0}},\n",
       "  'created_time': '2018-07-08T09:02:06+0000',\n",
       "  'id': '325767030937170_962364647277402',\n",
       "  'message': '東吳巨資學院與矽谷合作，體現數據實戰力',\n",
       "  'reaction_like': {'data': [], 'summary': {'total_count': 84}},\n",
       "  'reactions_angry': {'data': [], 'summary': {'total_count': 0}},\n",
       "  'reactions_haha': {'data': [], 'summary': {'total_count': 0}},\n",
       "  'reactions_love': {'data': [], 'summary': {'total_count': 1}},\n",
       "  'reactions_sad': {'data': [], 'summary': {'total_count': 0}},\n",
       "  'reactions_wow': {'data': [], 'summary': {'total_count': 4}},\n",
       "  'shares': {'count': 8},\n",
       "  'type': 'status'},\n",
       " {'comments': {'data': [],\n",
       "   'summary': {'can_comment': True, 'order': 'ranked', 'total_count': 0}},\n",
       "  'created_time': '2018-05-23T06:59:18+0000',\n",
       "  'id': '325767030937170_928664470647420',\n",
       "  'link': 'https://engineering.linkedin.com/blog/2018/04/behind--big-data--and--ai---elements-of-modern-data-science',\n",
       "  'message': 'Good article, good to share with you. Please enjoy!',\n",
       "  'reaction_like': {'data': [], 'summary': {'total_count': 14}},\n",
       "  'reactions_angry': {'data': [], 'summary': {'total_count': 0}},\n",
       "  'reactions_haha': {'data': [], 'summary': {'total_count': 0}},\n",
       "  'reactions_love': {'data': [], 'summary': {'total_count': 0}},\n",
       "  'reactions_sad': {'data': [], 'summary': {'total_count': 0}},\n",
       "  'reactions_wow': {'data': [], 'summary': {'total_count': 0}},\n",
       "  'type': 'link'},\n",
       " {'comments': {'data': [],\n",
       "   'summary': {'can_comment': True, 'order': 'ranked', 'total_count': 0}},\n",
       "  'created_time': '2018-05-16T14:12:56+0000',\n",
       "  'id': '325767030937170_925540544293146',\n",
       "  'link': 'http://www.books.com.tw/products/0010786214?loc=P_010_023',\n",
       "  'message': '電子商務在台灣發展至今已二十餘年，期間歷經許多外在情勢變化，其中最明顯的改變有連網設備普及、連網費用下降、智慧型手機普及等，這些都表明了電子商務正走在一條不斷進化的道路上。近年來大數據概念興起，使得電子商務的大數據相關應用呈現多元化趨勢。這意味著，大數據或是電子商務早已是一項跨領域之技能。有感於市面上大數據電子商務相關書籍多數局限於概念傳達，即便是實作型書籍也過於艱深難懂。有鑑於此，本書兩位作者協同各自跨領域專長及校內教學經驗，共同撰述符合資訊、商管、財務金融或社會科學領域適用之大數據電子商務教材。此《成為大數據電子商務人才的第一本書》一書共計有五大篇15 個章節，每一章節皆包含理論、個案與實作，特別是在實作部分大量採用免費或試用版軟體，期許廣大讀者能以最低成本吸收大數據電子商務新知。再者，為了因應大數據電子商務的持續進化，本書內容廣泛的將輿情探索、網路爬蟲、社群網路分析、網站流量分析、超音波非主動式推播、AR 擴增實境、資料視覺化以及智慧客服機器人等議題納入，這些議題在大數據電子商務中皆屬重要應用，本書手把手的教導讀者，使讀者能夠從中學習到實務技能，進而縮小學用落差。2018 年正值大數據應用的衝刺階段，相信讀者從本書內容中可以收獲許多大數據電子商務知識，使大家得以順利的銜接大數據盛世。',\n",
       "  'reaction_like': {'data': [], 'summary': {'total_count': 43}},\n",
       "  'reactions_angry': {'data': [], 'summary': {'total_count': 0}},\n",
       "  'reactions_haha': {'data': [], 'summary': {'total_count': 0}},\n",
       "  'reactions_love': {'data': [], 'summary': {'total_count': 0}},\n",
       "  'reactions_sad': {'data': [], 'summary': {'total_count': 0}},\n",
       "  'reactions_wow': {'data': [], 'summary': {'total_count': 0}},\n",
       "  'shares': {'count': 5},\n",
       "  'type': 'link'},\n",
       " {'comments': {'data': [],\n",
       "   'summary': {'can_comment': True, 'order': 'ranked', 'total_count': 1}},\n",
       "  'created_time': '2018-04-25T03:55:07+0000',\n",
       "  'id': '325767030937170_915217608658773',\n",
       "  'link': 'https://www.facebook.com/scubigdata/photos/a.358418851005321/915212848659249/?type=3',\n",
       "  'message': '【☀️學士後巨量資料分析學士學位學程\\u3000招生中☀️】\\n全民網路時代來臨，大數據已是必備\\n但究竟你真的理解大數據嗎？你能跟上這波趨勢嗎？\\n在這裡，開發你的「第二專長」成為資料科學家😎\\n\\n⭐報名時間：107.4.10~5.10\\n⭐招生名額：60名\\n⭐面試日期：107.06.09\\n⭐招生簡章：https://goo.gl/hNgv8c',\n",
       "  'reaction_like': {'data': [], 'summary': {'total_count': 30}},\n",
       "  'reactions_angry': {'data': [], 'summary': {'total_count': 0}},\n",
       "  'reactions_haha': {'data': [], 'summary': {'total_count': 0}},\n",
       "  'reactions_love': {'data': [], 'summary': {'total_count': 2}},\n",
       "  'reactions_sad': {'data': [], 'summary': {'total_count': 0}},\n",
       "  'reactions_wow': {'data': [], 'summary': {'total_count': 0}},\n",
       "  'shares': {'count': 7},\n",
       "  'type': 'photo'},\n",
       " {'comments': {'data': [],\n",
       "   'summary': {'can_comment': True, 'order': 'ranked', 'total_count': 0}},\n",
       "  'created_time': '2018-03-19T05:04:04+0000',\n",
       "  'id': '325767030937170_896909693822898',\n",
       "  'link': 'https://www.facebook.com/WiDSTaipei/photos/a.188272111902987/195585064505025/?type=3',\n",
       "  'message': '#學生有優惠票唷 #只剩不到20張！\\n相關活動細節，請參閱以下連結！',\n",
       "  'reaction_like': {'data': [], 'summary': {'total_count': 18}},\n",
       "  'reactions_angry': {'data': [], 'summary': {'total_count': 0}},\n",
       "  'reactions_haha': {'data': [], 'summary': {'total_count': 0}},\n",
       "  'reactions_love': {'data': [], 'summary': {'total_count': 0}},\n",
       "  'reactions_sad': {'data': [], 'summary': {'total_count': 0}},\n",
       "  'reactions_wow': {'data': [], 'summary': {'total_count': 0}},\n",
       "  'type': 'photo'},\n",
       " {'comments': {'data': [],\n",
       "   'summary': {'can_comment': True, 'order': 'ranked', 'total_count': 0}},\n",
       "  'created_time': '2018-03-02T07:22:20+0000',\n",
       "  'id': '325767030937170_888165471363987',\n",
       "  'link': 'https://bookzone.cwgv.com.tw/books/details/BCB640',\n",
       "  'message': '大數據作者  麥爾荀伯格剛出新書：大數據資本主義\\n\\n很值得大數據相關人士閱讀唷!\\n\\nhttps://bookzone.cwgv.com.tw/books/details/BCB640',\n",
       "  'reaction_like': {'data': [], 'summary': {'total_count': 37}},\n",
       "  'reactions_angry': {'data': [], 'summary': {'total_count': 0}},\n",
       "  'reactions_haha': {'data': [], 'summary': {'total_count': 1}},\n",
       "  'reactions_love': {'data': [], 'summary': {'total_count': 0}},\n",
       "  'reactions_sad': {'data': [], 'summary': {'total_count': 0}},\n",
       "  'reactions_wow': {'data': [], 'summary': {'total_count': 1}},\n",
       "  'shares': {'count': 7},\n",
       "  'type': 'link'},\n",
       " {'comments': {'data': [],\n",
       "   'summary': {'can_comment': True, 'order': 'ranked', 'total_count': 0}},\n",
       "  'created_time': '2018-01-15T07:09:12+0000',\n",
       "  'id': '325767030937170_864128853767649',\n",
       "  'link': 'https://www.facebook.com/photo.php?fbid=1996648893693434&set=gm.1619242168165436&type=3',\n",
       "  'message': '非常棒的分享！[1 mins read]\\n如何展現自己能夠與團隊一同解決問題的能力？\\n值得大家一讀與分享！',\n",
       "  'reaction_like': {'data': [], 'summary': {'total_count': 10}},\n",
       "  'reactions_angry': {'data': [], 'summary': {'total_count': 0}},\n",
       "  'reactions_haha': {'data': [], 'summary': {'total_count': 0}},\n",
       "  'reactions_love': {'data': [], 'summary': {'total_count': 1}},\n",
       "  'reactions_sad': {'data': [], 'summary': {'total_count': 0}},\n",
       "  'reactions_wow': {'data': [], 'summary': {'total_count': 0}},\n",
       "  'type': 'photo'},\n",
       " {'comments': {'data': [],\n",
       "   'summary': {'can_comment': True, 'order': 'ranked', 'total_count': 10}},\n",
       "  'created_time': '2018-01-11T11:37:32+0000',\n",
       "  'id': '325767030937170_862380757275792',\n",
       "  'link': 'https://goo.gl/S11kYb',\n",
       "  'message': '【📣好康活動抽獎📣】\\n全新產業實習計畫，需要你的加入\\n-\\n巨資學院重視實務與理論結合，\\n為了讓實習制度更加完善，\\n使同學找到理想的公司、業界找到合適的人才(實習生)，\\n我們需要各位 #同學 及 #業界朋友 們的建議，\\n以優化產業實習計畫的制度與流程！\\n\\n如果產業有用人需求也可以和我們聯繫❤️\\n-\\n⭐活動辦法：\\nStep1. 先完成以下產業實習問卷－https://goo.gl/S11kYb\\nStep2. tag 2位好友並留言「產業實習，全新出擊」\\nStep3. 「公開分享」此貼文\\n⭐抽獎獎品：7-11超商$500元禮卷，共3名\\n⭐活動時間：1/11(四)~1/26(五)\\n\\n#產業實習 #全新出擊 #需要你的加入\\n#好康抽獎 #快來分享 #等你拿大獎',\n",
       "  'reaction_like': {'data': [], 'summary': {'total_count': 20}},\n",
       "  'reactions_angry': {'data': [], 'summary': {'total_count': 0}},\n",
       "  'reactions_haha': {'data': [], 'summary': {'total_count': 0}},\n",
       "  'reactions_love': {'data': [], 'summary': {'total_count': 1}},\n",
       "  'reactions_sad': {'data': [], 'summary': {'total_count': 0}},\n",
       "  'reactions_wow': {'data': [], 'summary': {'total_count': 0}},\n",
       "  'shares': {'count': 5},\n",
       "  'type': 'link'},\n",
       " {'comments': {'data': [],\n",
       "   'summary': {'can_comment': True, 'order': 'ranked', 'total_count': 1}},\n",
       "  'created_time': '2017-12-30T06:53:13+0000',\n",
       "  'id': '325767030937170_856380404542494',\n",
       "  'link': 'https://www.facebook.com/scubigdata/videos/856380404542494/',\n",
       "  'message': '【碩專畢業生訪談文－PART 7 】\\n📣巨資碩專學長姐x快問快答📣\\n\\n相信大家看完一連串學長姊的分享後，\\n對於如何朝大數據方面前進有了更進一步的方向，\\n小編趁著訪談完的空檔進行了快問快答！\\n讓這些資深學長姐們展現不同的一面\\n學長姐們的極力推薦！不要再猶豫，立馬手刀報名！\\n-\\n今年錄取名額提高至45人！\\n且有分成 資訊科技組 及 資料應用組 ！\\nCP值高，綠取名額又提高，趕緊來報名吧！\\n-\\n➡️碩專報名時間：106.12.20~107.01.02\\n➡️毫不猶豫報名專區：https://exam.sys.scu.edu.tw/examweb/\\n➡️碩專報名簡章：https://goo.gl/S1jqyQ\\n➡️碩士考試簡章：https://goo.gl/7urEj5\\n➡️報名懶人包：https://www.apply-bigdata.info/',\n",
       "  'reaction_like': {'data': [], 'summary': {'total_count': 39}},\n",
       "  'reactions_angry': {'data': [], 'summary': {'total_count': 0}},\n",
       "  'reactions_haha': {'data': [], 'summary': {'total_count': 2}},\n",
       "  'reactions_love': {'data': [], 'summary': {'total_count': 3}},\n",
       "  'reactions_sad': {'data': [], 'summary': {'total_count': 0}},\n",
       "  'reactions_wow': {'data': [], 'summary': {'total_count': 1}},\n",
       "  'shares': {'count': 1},\n",
       "  'type': 'video'},\n",
       " {'comments': {'data': [],\n",
       "   'summary': {'can_comment': True, 'order': 'ranked', 'total_count': 0}},\n",
       "  'created_time': '2017-12-28T04:12:56+0000',\n",
       "  'id': '325767030937170_855161324664402',\n",
       "  'link': 'https://www.facebook.com/scubigdata/photos/a.358418851005321/855161081331093/?type=3',\n",
       "  'message': '【碩專畢業生訪談文－PART 6 】\\n📣永豐銀行消金處－吳信宏學長📣\\n\\n信宏學長在工作上原先的作法是以經驗為導向，\\n但經驗很難被保留下來而且容易隨著時間而改變，\\n透過數據不只能夠找出更客觀的答案，\\n還能用科學化的方式累積經驗必留在組織中。\\n-\\n➡️永豐 Follow ME: https://www.facebook.com/SinoPac/\\n永豐銀行以綿密的營業網路、高度創新的商品組合，為客戶提供最佳的金融服務，藉由「新貨幣、新市場、新通路」三大主軸，實現「客戶喜歡、股東滿意、社會尊敬、同仁驕傲」的四大願景。\\n-\\n➡️碩專報名時間：106.12.20~107.01.02\\n➡️碩專報名簡章：https://goo.gl/S1jqyQ\\n➡️碩士考試簡章：https://goo.gl/7urEj5\\n➡️報名懶人包：https://www.apply-bigdata.info/',\n",
       "  'reaction_like': {'data': [], 'summary': {'total_count': 13}},\n",
       "  'reactions_angry': {'data': [], 'summary': {'total_count': 0}},\n",
       "  'reactions_haha': {'data': [], 'summary': {'total_count': 0}},\n",
       "  'reactions_love': {'data': [], 'summary': {'total_count': 0}},\n",
       "  'reactions_sad': {'data': [], 'summary': {'total_count': 0}},\n",
       "  'reactions_wow': {'data': [], 'summary': {'total_count': 1}},\n",
       "  'shares': {'count': 1},\n",
       "  'type': 'photo'},\n",
       " {'comments': {'data': [],\n",
       "   'summary': {'can_comment': True, 'order': 'ranked', 'total_count': 0}},\n",
       "  'created_time': '2017-12-27T14:37:31+0000',\n",
       "  'id': '325767030937170_855160087997859',\n",
       "  'link': 'https://www.facebook.com/scubigdata/photos/a.358418851005321/855159554664579/?type=3',\n",
       "  'message': '【大數據頂尖人物來演講啦！！】\\n📣LinkedIn大數據總監－Chi-Yi Kuan📣\\n\\n很榮幸的，我們在這個學期邀請到美國矽谷LinkedIn總部的大數據總監Chi-Yi Kuan，來和大家分享LinkedIn在資料分析中端到端的應用。\\n\\n總監在演講中細分了三大塊Data、Analytic、Talent，每一個環節都以Linkedin做了什麼來分享，演講內容相當的精彩！演講後的Q&A更是讓各位對大數據懷有更大的期望與抱負。\\n-\\n➡️碩專報名時間：106.12.20~107.01.02\\n➡️碩專報名簡章：https://goo.gl/S1jqyQ\\n➡️碩士考試簡章：https://goo.gl/7urEj5\\n➡️報名懶人包：https://www.apply-bigdata.info/',\n",
       "  'reaction_like': {'data': [], 'summary': {'total_count': 38}},\n",
       "  'reactions_angry': {'data': [], 'summary': {'total_count': 0}},\n",
       "  'reactions_haha': {'data': [], 'summary': {'total_count': 0}},\n",
       "  'reactions_love': {'data': [], 'summary': {'total_count': 0}},\n",
       "  'reactions_sad': {'data': [], 'summary': {'total_count': 0}},\n",
       "  'reactions_wow': {'data': [], 'summary': {'total_count': 0}},\n",
       "  'shares': {'count': 3},\n",
       "  'type': 'photo'},\n",
       " {'comments': {'data': [],\n",
       "   'summary': {'can_comment': True, 'order': 'ranked', 'total_count': 0}},\n",
       "  'created_time': '2017-12-26T06:35:14+0000',\n",
       "  'id': '325767030937170_854524454728089',\n",
       "  'link': 'https://www.apply-bigdata.info/',\n",
       "  'message': '【全新獨創！最新碩專課程地圖】\\n巨資學院聽了許多建議，於是在今年推出 #全新碩專課表\\n將課程分為兩大組別－#資訊科技組 及 #資料應用組\\n可以依照自己的需求，選擇想學習的課程\\n今年招生錄取名額還提高至４５人！！\\n還不趕快踏入 #大數據 的行列之中❤️\\n-\\n➡️碩專報名時間：106.12.20~107.01.02\\n➡️碩專報名簡章：https://goo.gl/S1jqyQ\\n➡️報名懶人包：https://www.apply-bigdata.info/\\n#傾聽你的需求 #滿足你的要求 #成就每個某某 #一起創造不朽',\n",
       "  'reaction_like': {'data': [], 'summary': {'total_count': 8}},\n",
       "  'reactions_angry': {'data': [], 'summary': {'total_count': 0}},\n",
       "  'reactions_haha': {'data': [], 'summary': {'total_count': 0}},\n",
       "  'reactions_love': {'data': [], 'summary': {'total_count': 0}},\n",
       "  'reactions_sad': {'data': [], 'summary': {'total_count': 0}},\n",
       "  'reactions_wow': {'data': [], 'summary': {'total_count': 1}},\n",
       "  'type': 'link'},\n",
       " {'comments': {'data': [],\n",
       "   'summary': {'can_comment': True, 'order': 'ranked', 'total_count': 3}},\n",
       "  'created_time': '2017-12-25T04:30:00+0000',\n",
       "  'id': '325767030937170_853788774801657',\n",
       "  'link': 'https://www.facebook.com/scubigdata/photos/a.358418851005321/853788181468383/?type=3',\n",
       "  'message': '🎉好消息好消息 「東吳巨資」榮獲華南 M.B.A.挑戰獎🎉\\n\\n華南金控子公司及新創團隊業師透過實務經驗與學生交流，共創產、學、研三方數位金融交流平台。\\n\\n⭐「東吳巨資」入圍決賽後在25隊中裡脫穎而出，並且團隊運用金融科技有效解決目前傳統金融的痛點，榮獲 M.B.A.挑戰獎。\\n\\n華南金控透過此次競賽將同時進行人才募集計劃，入圍決賽的25隊、共108位同學，未來3年內將可享免筆試，經面試通過即可進入華南金融集團工作。當天上午，華南金控旗下銀行、證券、產險、及投信等子公司的業務與人資主管都到決賽現場觀看參賽者表現，後續將依參賽者的意願及志願安排深度面談，透過競賽學生可優先掌握進入華南集團的工作機會，成為華南重點培育的數位金融人才。\\n\\n比賽項目：2017華南金控第二屆金融科技創新競賽 \\n得獎紀錄：華南 M.B.A.挑戰獎 (AI組)(新台幣六萬元) \\n隊       名：「東吳巨資」\\n參賽隊員：楊涓、劉聿欣、李姿儀、蔡政宏 \\n指導教授：黃福銘 \\n比賽網站：http://www.hnfhc.com.tw/campaign/2017fintechers/index.html  \\n\\n➡️⭐碩專報名時間：106.12.20~107.01.02\\n➡️⭐碩專報名簡章：https://goo.gl/S1jqyQ\\n➡️⭐報名懶人包：http://www.apply-bigdata.info/',\n",
       "  'reaction_like': {'data': [], 'summary': {'total_count': 41}},\n",
       "  'reactions_angry': {'data': [], 'summary': {'total_count': 0}},\n",
       "  'reactions_haha': {'data': [], 'summary': {'total_count': 0}},\n",
       "  'reactions_love': {'data': [], 'summary': {'total_count': 1}},\n",
       "  'reactions_sad': {'data': [], 'summary': {'total_count': 0}},\n",
       "  'reactions_wow': {'data': [], 'summary': {'total_count': 1}},\n",
       "  'shares': {'count': 3},\n",
       "  'type': 'photo'},\n",
       " {'comments': {'data': [],\n",
       "   'summary': {'can_comment': True, 'order': 'ranked', 'total_count': 0}},\n",
       "  'created_time': '2017-12-24T15:50:01+0000',\n",
       "  'id': '325767030937170_853660588147809',\n",
       "  'link': 'https://www.facebook.com/scubigdata/photos/a.358418851005321/853660421481159/?type=3',\n",
       "  'message': '【碩專畢業生訪談文－PART5 】\\n📣勤業眾信風險管理部門－曾韵學姊📣 Christina Tseng\\n\\n對於風險管理這領域來說，\\n單單只用傳統的分析方式已跟不上時代的演進，\\n在這資訊量爆炸的時代，\\n如何準確地用什麼方法去評估風險是一門課題，\\n就一同隨著學姊的腳步在大數據裡找答案吧！\\n-\\n➡️碩專報名時間：106.12.20~107.01.02\\n➡️碩士考試報名時間：106.12.20~107.01.02\\n➡️報名懶人包：https://www.apply-bigdata.info/',\n",
       "  'reaction_like': {'data': [], 'summary': {'total_count': 17}},\n",
       "  'reactions_angry': {'data': [], 'summary': {'total_count': 0}},\n",
       "  'reactions_haha': {'data': [], 'summary': {'total_count': 0}},\n",
       "  'reactions_love': {'data': [], 'summary': {'total_count': 0}},\n",
       "  'reactions_sad': {'data': [], 'summary': {'total_count': 0}},\n",
       "  'reactions_wow': {'data': [], 'summary': {'total_count': 0}},\n",
       "  'shares': {'count': 2},\n",
       "  'type': 'photo'},\n",
       " {'comments': {'data': [],\n",
       "   'summary': {'can_comment': True, 'order': 'ranked', 'total_count': 1}},\n",
       "  'created_time': '2017-12-24T12:00:00+0000',\n",
       "  'id': '325767030937170_853642894816245',\n",
       "  'link': 'https://www.facebook.com/scubigdata/photos/a.358418851005321/853641914816343/?type=3',\n",
       "  'message': '【碩專畢業生訪談文－PART4】\\n 📣中時電子報系統部協理－蔡源光學長 📣 Sunny Tsay\\n\\n蔡學長的工作主要是負責中時電子報的網站管理，\\n利用大數據分析了解用戶所喜愛的新聞類型，\\n在碩專班，除了能夠學習如何將大數據與工作結合，\\n還能和不同領域的同學們互相學習交流，\\n也讓學長接觸到在媒體業無法接觸的專業知識。\\n-\\n旺旺集團於2008年11月入主台灣中時媒體集團，提出以「唱旺台灣、旺旺中國人」為媒體經營目標，期勉旺旺媒體人以增進兩岸和諧、構築民間溝通橋樑自許，共同構建出全球華人世界的最大媒體平台！\\n 中時電子報: https://www.facebook.com/CTfans\\n-\\n ➡️碩專報名時間：106.12.20~107.01.02\\n ➡️碩專報名簡章：https://goo.gl/S1jqyQ\\n ➡️報名懶人包：https://www.apply-bigdata.info/\\n\\n#來唸碩班班好處多多 #你還不來嗎 #東吳巨資碩專班',\n",
       "  'reaction_like': {'data': [], 'summary': {'total_count': 13}},\n",
       "  'reactions_angry': {'data': [], 'summary': {'total_count': 0}},\n",
       "  'reactions_haha': {'data': [], 'summary': {'total_count': 0}},\n",
       "  'reactions_love': {'data': [], 'summary': {'total_count': 0}},\n",
       "  'reactions_sad': {'data': [], 'summary': {'total_count': 0}},\n",
       "  'reactions_wow': {'data': [], 'summary': {'total_count': 0}},\n",
       "  'shares': {'count': 1},\n",
       "  'type': 'photo'},\n",
       " {'comments': {'data': [],\n",
       "   'summary': {'can_comment': True, 'order': 'ranked', 'total_count': 0}},\n",
       "  'created_time': '2017-12-21T14:30:37+0000',\n",
       "  'id': '325767030937170_852247531622448',\n",
       "  'link': 'https://www.facebook.com/scubigdata/photos/a.358418851005321/852247401622461/?type=3',\n",
       "  'message': '【💡好康報報 _ R-Ladies Taipei Data Viz Open Hack 💡】\\nR Ladies 將於明年1/7日舉辦一場跟Tableau原廠合作的活動\\n要跟大家一起來玩Open Data 視覺化，R Ladies也請到Tableau的專業講師來幫我們上課唷！\\n\\n金額：只需支付活動押金一百元，當天全程參與完扣掉手續費再退回！\\n活動：除了組隊玩Open Data、熟悉Open Data之外，更可以趁機精進自己使用Tableau的能力哦！\\n時間：2018/01/07(日)\\n即日起開放報名，名額有限，要搶要快呀～\\n\\n➡️活動報名：https://www.accupass.com/go/rladiesopendatahack\\n備註：本活動由R-Ladies主辦，當然也僅限女生報名參加哦！\\n活動當天附午餐與午茶，不用擔心餓肚子唷！\\n\\n➡️⭐碩專報名時間：106.12.20~107.01.02\\n➡️⭐碩專報名簡章：https://goo.gl/S1jqyQ\\n➡️⭐報名懶人包：http://d-lab.in/apply_master/index.html',\n",
       "  'reaction_like': {'data': [], 'summary': {'total_count': 17}},\n",
       "  'reactions_angry': {'data': [], 'summary': {'total_count': 0}},\n",
       "  'reactions_haha': {'data': [], 'summary': {'total_count': 0}},\n",
       "  'reactions_love': {'data': [], 'summary': {'total_count': 0}},\n",
       "  'reactions_sad': {'data': [], 'summary': {'total_count': 0}},\n",
       "  'reactions_wow': {'data': [], 'summary': {'total_count': 0}},\n",
       "  'shares': {'count': 1},\n",
       "  'type': 'photo'},\n",
       " {'comments': {'data': [],\n",
       "   'summary': {'can_comment': True, 'order': 'ranked', 'total_count': 0}},\n",
       "  'created_time': '2017-12-20T13:02:01+0000',\n",
       "  'id': '325767030937170_851758288338039',\n",
       "  'link': 'https://www.apply-bigdata.info/',\n",
       "  'message': '【📣東吳巨資碩專班報名開跑囉📣】\\n還在擔心報名人數眾多，無法被萬中選一的錄取嗎？\\n不用怕！！今年東吳巨資碩專班提高名額至 45人！！\\n錄取率大大的提高，下一個數據科學家就是你妳你🤓\\n\\n還在擔心無法選擇自己想走的方向嗎？\\n不用怕！！今年將碩專班分成資訊科技組及資料應用組！！\\n擇你所愛，愛你所擇😍\\n-\\n➡️碩專報名時間：106.12.20~107.01.02\\n➡️碩專報名簡章：https://goo.gl/S1jqyQ\\n➡️報名懶人包：https://www.apply-bigdata.info/',\n",
       "  'reaction_like': {'data': [], 'summary': {'total_count': 12}},\n",
       "  'reactions_angry': {'data': [], 'summary': {'total_count': 0}},\n",
       "  'reactions_haha': {'data': [], 'summary': {'total_count': 0}},\n",
       "  'reactions_love': {'data': [], 'summary': {'total_count': 0}},\n",
       "  'reactions_sad': {'data': [], 'summary': {'total_count': 0}},\n",
       "  'reactions_wow': {'data': [], 'summary': {'total_count': 0}},\n",
       "  'type': 'link'}]"
      ]
     },
     "execution_count": 4,
     "metadata": {},
     "output_type": "execute_result"
    }
   ],
   "source": [
    "fanpage['data']"
   ]
  },
  {
   "cell_type": "code",
   "execution_count": 7,
   "metadata": {
    "collapsed": false
   },
   "outputs": [
    {
     "data": {
      "text/plain": [
       "25"
      ]
     },
     "execution_count": 7,
     "metadata": {},
     "output_type": "execute_result"
    }
   ],
   "source": [
    "len(fanpage['data'])"
   ]
  },
  {
   "cell_type": "markdown",
   "metadata": {},
   "source": [
    "第一筆資料"
   ]
  },
  {
   "cell_type": "code",
   "execution_count": 6,
   "metadata": {
    "collapsed": false,
    "scrolled": true
   },
   "outputs": [
    {
     "data": {
      "text/plain": [
       "{'comments': {'data': [],\n",
       "  'summary': {'can_comment': True, 'order': 'ranked', 'total_count': 0}},\n",
       " 'created_time': '2018-11-06T02:55:08+0000',\n",
       " 'id': '325767030937170_1050616578452208',\n",
       " 'message': '【徵才】\\n原友蘭教授 誠徵 #專任全職助理\\n\\n➡️工作地點：東海大學\\n工作時間：週一到週五，#沒有打卡，但是每週會需要固定一天報告進度\\n➡️工作條件：英文能書信溝通、統計分析、報告撰寫，會處理 #GoogleAnalysis 資料或是R語言的優先考慮\\n➡️工作福利：\\n* 有3-4次出國機會(印尼與菲律賓)\\n* 包含住宿與機票\\n➡️薪資待遇：\\n* 32000-34000之間+勞健保+一個月年終\\n\\n➡️其他事項：\\n* 有碩士學會就可申請在東海兼課\\n* 會幫忙申請教師證\\n\\n➡️聯繫方式：\\n* yoyoyuan@go.thu.edu.tw\\n* 0910-659134',\n",
       " 'reaction_like': {'data': [], 'summary': {'total_count': 12}},\n",
       " 'reactions_angry': {'data': [], 'summary': {'total_count': 0}},\n",
       " 'reactions_haha': {'data': [], 'summary': {'total_count': 0}},\n",
       " 'reactions_love': {'data': [], 'summary': {'total_count': 0}},\n",
       " 'reactions_sad': {'data': [], 'summary': {'total_count': 0}},\n",
       " 'reactions_wow': {'data': [], 'summary': {'total_count': 0}},\n",
       " 'shares': {'count': 1},\n",
       " 'type': 'status'}"
      ]
     },
     "execution_count": 6,
     "metadata": {},
     "output_type": "execute_result"
    }
   ],
   "source": [
    "fanpage['data'][0]"
   ]
  },
  {
   "cell_type": "markdown",
   "metadata": {},
   "source": [
    "發文時間"
   ]
  },
  {
   "cell_type": "code",
   "execution_count": 5,
   "metadata": {
    "collapsed": false
   },
   "outputs": [
    {
     "data": {
      "text/plain": [
       "'2018-11-06T02:55:08+0000'"
      ]
     },
     "execution_count": 5,
     "metadata": {},
     "output_type": "execute_result"
    }
   ],
   "source": [
    "fanpage['data'][0]['created_time']"
   ]
  },
  {
   "cell_type": "markdown",
   "metadata": {},
   "source": [
    "文章ID"
   ]
  },
  {
   "cell_type": "code",
   "execution_count": 6,
   "metadata": {
    "collapsed": false
   },
   "outputs": [
    {
     "data": {
      "text/plain": [
       "'325767030937170_1050616578452208'"
      ]
     },
     "execution_count": 6,
     "metadata": {},
     "output_type": "execute_result"
    }
   ],
   "source": [
    "fanpage['data'][0]['id']"
   ]
  },
  {
   "cell_type": "markdown",
   "metadata": {},
   "source": [
    "文章內容"
   ]
  },
  {
   "cell_type": "code",
   "execution_count": 7,
   "metadata": {
    "collapsed": false
   },
   "outputs": [
    {
     "data": {
      "text/plain": [
       "'【徵才】\\n原友蘭教授 誠徵 #專任全職助理\\n\\n➡️工作地點：東海大學\\n工作時間：週一到週五，#沒有打卡，但是每週會需要固定一天報告進度\\n➡️工作條件：英文能書信溝通、統計分析、報告撰寫，會處理 #GoogleAnalysis 資料或是R語言的優先考慮\\n➡️工作福利：\\n* 有3-4次出國機會(印尼與菲律賓)\\n* 包含住宿與機票\\n➡️薪資待遇：\\n* 32000-34000之間+勞健保+一個月年終\\n\\n➡️其他事項：\\n* 有碩士學會就可申請在東海兼課\\n* 會幫忙申請教師證\\n\\n➡️聯繫方式：\\n* yoyoyuan@go.thu.edu.tw\\n* 0910-659134'"
      ]
     },
     "execution_count": 7,
     "metadata": {},
     "output_type": "execute_result"
    }
   ],
   "source": [
    "fanpage['data'][0]['message']"
   ]
  },
  {
   "cell_type": "markdown",
   "metadata": {},
   "source": [
    "不同的按讚數量 Ex.讚, 驚訝, 愛心, 笑, 生氣, 難過"
   ]
  },
  {
   "cell_type": "code",
   "execution_count": 8,
   "metadata": {
    "collapsed": false
   },
   "outputs": [
    {
     "name": "stdout",
     "output_type": "stream",
     "text": [
      "12\n",
      "0\n",
      "0\n",
      "0\n",
      "0\n",
      "0\n"
     ]
    }
   ],
   "source": [
    "print(fanpage['data'][0]['reaction_like']['summary']['total_count'])\n",
    "print(fanpage['data'][0]['reactions_wow']['summary']['total_count'])\n",
    "print(fanpage['data'][0]['reactions_love']['summary']['total_count'])\n",
    "print(fanpage['data'][0]['reactions_haha']['summary']['total_count'])\n",
    "print(fanpage['data'][0]['reactions_angry']['summary']['total_count'])\n",
    "print(fanpage['data'][0]['reactions_sad']['summary']['total_count'])"
   ]
  },
  {
   "cell_type": "markdown",
   "metadata": {},
   "source": [
    "分享數量"
   ]
  },
  {
   "cell_type": "code",
   "execution_count": 9,
   "metadata": {
    "collapsed": false
   },
   "outputs": [
    {
     "data": {
      "text/plain": [
       "1"
      ]
     },
     "execution_count": 9,
     "metadata": {},
     "output_type": "execute_result"
    }
   ],
   "source": [
    "fanpage['data'][0]['shares']['count']"
   ]
  },
  {
   "cell_type": "markdown",
   "metadata": {},
   "source": [
    "留言數量"
   ]
  },
  {
   "cell_type": "code",
   "execution_count": 10,
   "metadata": {
    "collapsed": false
   },
   "outputs": [
    {
     "data": {
      "text/plain": [
       "0"
      ]
     },
     "execution_count": 10,
     "metadata": {},
     "output_type": "execute_result"
    }
   ],
   "source": [
    "fanpage['data'][0]['comments']['summary']['total_count']"
   ]
  },
  {
   "cell_type": "markdown",
   "metadata": {},
   "source": [
    "把資訊存入list裡"
   ]
  },
  {
   "cell_type": "code",
   "execution_count": 19,
   "metadata": {
    "collapsed": false
   },
   "outputs": [],
   "source": [
    "time, ID, context, like, wow, love, haha, angry, sad, share, comment = [], [], [], [], [], [], \n",
    "[], [], [], [], []\n",
    "for i in fanpage['data']:\n",
    "    time.append(i['created_time'])\n",
    "    ID.append(i['id'])\n",
    "    context.append(i['message'])\n",
    "    like.append(i['reaction_like']['summary']['total_count'])\n",
    "    wow.append(i['reactions_wow']['summary']['total_count'])\n",
    "    love.append(i['reactions_love']['summary']['total_count'])\n",
    "    haha.append(i['reactions_haha']['summary']['total_count'])\n",
    "    angry.append(i['reactions_angry']['summary']['total_count'])\n",
    "    sad.append(i['reactions_sad']['summary']['total_count'])\n",
    "    try:\n",
    "        share.append(i['shares']['count'])\n",
    "    except:\n",
    "        share.append(0)\n",
    "    comment.append(i['comments']['summary']['total_count'])"
   ]
  },
  {
   "cell_type": "markdown",
   "metadata": {},
   "source": [
    "一次requests只會回傳25筆資料，換頁資訊在next裡"
   ]
  },
  {
   "cell_type": "code",
   "execution_count": 13,
   "metadata": {
    "collapsed": false
   },
   "outputs": [
    {
     "data": {
      "text/plain": [
       "'https://graph.facebook.com/v2.9/325767030937170/posts?access_token=EAAVBPxZBVDb8BAJib0SAxWnOtZCPBjXVnuPtUx0iVMYdq0GlcRrhxwU5sZCGv3idx0ObuWgW3UVWzHXTpk3ZBB4gi3aIldxrgUdyyRYoZCQIvl9ZCAoZB7jXnZA8cT74gQZAXEMHj3XpK7rZCZAUeSLySdOpZCHIQNi2Bab8Dh4HZAr0zqkYWARIYo0LpDzNms3dIQGUY746LfRfDsgZDZD&fields=id%2Cmessage%2Ctype%2Ccreated_time%2Clink%2Cshares%2Ccomments.limit%280%29.summary%28true%29%2Clikes.limit%280%29.summary%28total_count%29.as%28reaction_like%29%2Creactions.type%28LOVE%29.limit%280%29.summary%28total_count%29.as%28reactions_love%29%2Creactions.type%28WOW%29.limit%280%29.summary%28total_count%29.as%28reactions_wow%29%2Creactions.type%28HAHA%29.limit%280%29.summary%28total_count%29.as%28reactions_haha%29%2Creactions.type%28SAD%29.limit%280%29.summary%28total_count%29.as%28reactions_sad%29%2Creactions.type%28ANGRY%29.limit%280%29.summary%28total_count%29.as%28reactions_angry%29&limit=25&after=Q2c4U1pXNTBYM0YxWlhKNVgzTjBiM0o1WDJsa0R5TXpNalUzTmpjd016QTVNemN4TnpBNk5qWTNNemd5T0RreE9UazFNemsxTnpBeE13OE1ZAWEJwWDNOMGIzSjVYMmxrRHg4ek1qVTNOamN3TXpBNU16Y3hOekJmT0RVeE56VTRNamc0TXpNNE1ETTVEd1IwYVcxbEJsbzZAYMGtC'"
      ]
     },
     "execution_count": 13,
     "metadata": {},
     "output_type": "execute_result"
    }
   ],
   "source": [
    "fanpage['paging']['next']"
   ]
  },
  {
   "cell_type": "markdown",
   "metadata": {},
   "source": [
    "設定總共爬取五頁共100筆資料"
   ]
  },
  {
   "cell_type": "code",
   "execution_count": 20,
   "metadata": {
    "collapsed": false
   },
   "outputs": [],
   "source": [
    "page=2\n",
    "url = fanpage['paging']['next']\n",
    "while page < 5:\n",
    "    res = requests.get(url)\n",
    "    fanpage2 = json.loads(res.text)\n",
    "    for i in fanpage2['data']:\n",
    "        time.append(i['created_time'])\n",
    "        ID.append(i['id'])\n",
    "        context.append(i['message'])\n",
    "        like.append(i['reaction_like']['summary']['total_count'])\n",
    "        wow.append(i['reactions_wow']['summary']['total_count'])\n",
    "        love.append(i['reactions_love']['summary']['total_count'])\n",
    "        haha.append(i['reactions_haha']['summary']['total_count'])\n",
    "        angry.append(i['reactions_angry']['summary']['total_count'])\n",
    "        sad.append(i['reactions_sad']['summary']['total_count'])\n",
    "        try:\n",
    "            share.append(i['shares']['count'])\n",
    "        except:\n",
    "            share.append(0)\n",
    "        comment.append(i['comments']['summary']['total_count'])\n",
    "    url = fanpage2['paging']['next']\n",
    "    page += 1"
   ]
  },
  {
   "cell_type": "code",
   "execution_count": 21,
   "metadata": {
    "collapsed": false
   },
   "outputs": [],
   "source": [
    "information = list(zip(time, ID, context, like, wow, love, haha, angry, sad, share, comment))"
   ]
  },
  {
   "cell_type": "markdown",
   "metadata": {},
   "source": [
    "轉成DataFrame格式"
   ]
  },
  {
   "cell_type": "code",
   "execution_count": 22,
   "metadata": {
    "collapsed": false
   },
   "outputs": [],
   "source": [
    "import pandas as pd\n",
    "df = pd.DataFrame(information, columns=['time','id','context','like','wow','love','haha',\n",
    "                                        'angry','sad','share','comment'])"
   ]
  },
  {
   "cell_type": "code",
   "execution_count": 23,
   "metadata": {
    "collapsed": false,
    "scrolled": false
   },
   "outputs": [
    {
     "data": {
      "text/html": [
       "<div>\n",
       "<style>\n",
       "    .dataframe thead tr:only-child th {\n",
       "        text-align: right;\n",
       "    }\n",
       "\n",
       "    .dataframe thead th {\n",
       "        text-align: left;\n",
       "    }\n",
       "\n",
       "    .dataframe tbody tr th {\n",
       "        vertical-align: top;\n",
       "    }\n",
       "</style>\n",
       "<table border=\"1\" class=\"dataframe\">\n",
       "  <thead>\n",
       "    <tr style=\"text-align: right;\">\n",
       "      <th></th>\n",
       "      <th>time</th>\n",
       "      <th>id</th>\n",
       "      <th>context</th>\n",
       "      <th>like</th>\n",
       "      <th>wow</th>\n",
       "      <th>love</th>\n",
       "      <th>haha</th>\n",
       "      <th>angry</th>\n",
       "      <th>sad</th>\n",
       "      <th>share</th>\n",
       "      <th>comment</th>\n",
       "    </tr>\n",
       "  </thead>\n",
       "  <tbody>\n",
       "    <tr>\n",
       "      <th>0</th>\n",
       "      <td>2018-11-06T02:55:08+0000</td>\n",
       "      <td>325767030937170_1050616578452208</td>\n",
       "      <td>【徵才】\\n原友蘭教授 誠徵 #專任全職助理\\n\\n➡️工作地點：東海大學\\n工作時間：週一...</td>\n",
       "      <td>12</td>\n",
       "      <td>0</td>\n",
       "      <td>0</td>\n",
       "      <td>0</td>\n",
       "      <td>0</td>\n",
       "      <td>0</td>\n",
       "      <td>1</td>\n",
       "      <td>0</td>\n",
       "    </tr>\n",
       "    <tr>\n",
       "      <th>1</th>\n",
       "      <td>2018-10-26T15:30:42+0000</td>\n",
       "      <td>325767030937170_1045065325674000</td>\n",
       "      <td>【東吳巨資碩士甄試報名】\\n網路蓬勃發展的時代，KOL的人數也逐漸上升，\\n但究竟要如何經營...</td>\n",
       "      <td>15</td>\n",
       "      <td>0</td>\n",
       "      <td>0</td>\n",
       "      <td>0</td>\n",
       "      <td>0</td>\n",
       "      <td>0</td>\n",
       "      <td>0</td>\n",
       "      <td>0</td>\n",
       "    </tr>\n",
       "    <tr>\n",
       "      <th>2</th>\n",
       "      <td>2018-10-24T04:50:17+0000</td>\n",
       "      <td>325767030937170_1043766419137224</td>\n",
       "      <td>【東吳巨資碩士甄試報名】\\n想要了解時下深度學習、AI究竟是什麼嗎？\\n就是現在！東吳巨資碩...</td>\n",
       "      <td>36</td>\n",
       "      <td>0</td>\n",
       "      <td>2</td>\n",
       "      <td>3</td>\n",
       "      <td>0</td>\n",
       "      <td>0</td>\n",
       "      <td>8</td>\n",
       "      <td>9</td>\n",
       "    </tr>\n",
       "    <tr>\n",
       "      <th>3</th>\n",
       "      <td>2018-10-19T16:07:39+0000</td>\n",
       "      <td>325767030937170_1041456549368211</td>\n",
       "      <td>【東吳巨資碩士甄試報名】\\n還在煩惱報名步驟繁瑣嗎？\\n還在擔心是不是少準備了什麼東西嗎？\\...</td>\n",
       "      <td>13</td>\n",
       "      <td>0</td>\n",
       "      <td>0</td>\n",
       "      <td>0</td>\n",
       "      <td>0</td>\n",
       "      <td>0</td>\n",
       "      <td>2</td>\n",
       "      <td>0</td>\n",
       "    </tr>\n",
       "    <tr>\n",
       "      <th>4</th>\n",
       "      <td>2018-10-18T11:00:01+0000</td>\n",
       "      <td>325767030937170_1040710716109461</td>\n",
       "      <td>【東吳巨資碩士甄試報名】\\n現在是數據化的時代，你卻還一片徬徨嗎？\\n想要學以致用，習得一些...</td>\n",
       "      <td>50</td>\n",
       "      <td>0</td>\n",
       "      <td>1</td>\n",
       "      <td>0</td>\n",
       "      <td>0</td>\n",
       "      <td>0</td>\n",
       "      <td>11</td>\n",
       "      <td>0</td>\n",
       "    </tr>\n",
       "  </tbody>\n",
       "</table>\n",
       "</div>"
      ],
      "text/plain": [
       "                       time                                id  \\\n",
       "0  2018-11-06T02:55:08+0000  325767030937170_1050616578452208   \n",
       "1  2018-10-26T15:30:42+0000  325767030937170_1045065325674000   \n",
       "2  2018-10-24T04:50:17+0000  325767030937170_1043766419137224   \n",
       "3  2018-10-19T16:07:39+0000  325767030937170_1041456549368211   \n",
       "4  2018-10-18T11:00:01+0000  325767030937170_1040710716109461   \n",
       "\n",
       "                                             context  like  wow  love  haha  \\\n",
       "0  【徵才】\\n原友蘭教授 誠徵 #專任全職助理\\n\\n➡️工作地點：東海大學\\n工作時間：週一...    12    0     0     0   \n",
       "1  【東吳巨資碩士甄試報名】\\n網路蓬勃發展的時代，KOL的人數也逐漸上升，\\n但究竟要如何經營...    15    0     0     0   \n",
       "2  【東吳巨資碩士甄試報名】\\n想要了解時下深度學習、AI究竟是什麼嗎？\\n就是現在！東吳巨資碩...    36    0     2     3   \n",
       "3  【東吳巨資碩士甄試報名】\\n還在煩惱報名步驟繁瑣嗎？\\n還在擔心是不是少準備了什麼東西嗎？\\...    13    0     0     0   \n",
       "4  【東吳巨資碩士甄試報名】\\n現在是數據化的時代，你卻還一片徬徨嗎？\\n想要學以致用，習得一些...    50    0     1     0   \n",
       "\n",
       "   angry  sad  share  comment  \n",
       "0      0    0      1        0  \n",
       "1      0    0      0        0  \n",
       "2      0    0      8        9  \n",
       "3      0    0      2        0  \n",
       "4      0    0     11        0  "
      ]
     },
     "execution_count": 23,
     "metadata": {},
     "output_type": "execute_result"
    }
   ],
   "source": [
    "df.head()"
   ]
  },
  {
   "cell_type": "code",
   "execution_count": 25,
   "metadata": {
    "collapsed": false
   },
   "outputs": [
    {
     "name": "stdout",
     "output_type": "stream",
     "text": [
      "<class 'pandas.core.frame.DataFrame'>\n",
      "RangeIndex: 100 entries, 0 to 99\n",
      "Data columns (total 11 columns):\n",
      "time       100 non-null object\n",
      "id         100 non-null object\n",
      "context    100 non-null object\n",
      "like       100 non-null int64\n",
      "wow        100 non-null int64\n",
      "love       100 non-null int64\n",
      "haha       100 non-null int64\n",
      "angry      100 non-null int64\n",
      "sad        100 non-null int64\n",
      "share      100 non-null int64\n",
      "comment    100 non-null int64\n",
      "dtypes: int64(8), object(3)\n",
      "memory usage: 8.7+ KB\n"
     ]
    }
   ],
   "source": [
    "df.info()"
   ]
  },
  {
   "cell_type": "markdown",
   "metadata": {},
   "source": [
    "匯出成Excel檔案"
   ]
  },
  {
   "cell_type": "code",
   "execution_count": null,
   "metadata": {
    "collapsed": true
   },
   "outputs": [],
   "source": [
    "df.to_excel(\"粉絲專頁資料.xlsx\", index=False)"
   ]
  }
 ],
 "metadata": {
  "kernelspec": {
   "display_name": "Python 3",
   "language": "python",
   "name": "python3"
  },
  "language_info": {
   "codemirror_mode": {
    "name": "ipython",
    "version": 3
   },
   "file_extension": ".py",
   "mimetype": "text/x-python",
   "name": "python",
   "nbconvert_exporter": "python",
   "pygments_lexer": "ipython3",
   "version": "3.6.3"
  }
 },
 "nbformat": 4,
 "nbformat_minor": 2
}
